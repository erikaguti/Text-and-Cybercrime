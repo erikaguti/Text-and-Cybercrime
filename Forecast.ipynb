{
 "cells": [
  {
   "cell_type": "markdown",
   "id": "55a7b010",
   "metadata": {},
   "source": [
    "## Prediction of Cyber Attacks Using Text as Data"
   ]
  },
  {
   "cell_type": "markdown",
   "id": "2c7b5434",
   "metadata": {},
   "source": [
    "For this assignment I set out to create a model to forecast the incidence of cyber attacks. For data I reached out to the owner of https://www.hackmageddon.com/ for the data he uses to report the statistics on his website. Through literature review I verified this was a reliable source of data since it has been used by other researchers also interested in predicting instances of cyber attacks (please see https://ieeexplore.ieee.org/document/8622106 and https://dl.acm.org/doi/10.1145/3064814.3064831). \n",
    "\n",
    "I received a zip file that was a bit of a mess with various folders containing datasets with occasionally inconsistent headers. Please see Hackmageddon_Cleaning.ipynb for the code used to prepare the data. \n",
    "\n",
    "I merged this data with the topics from https://conflictforecast.org/downloads. I chose this data because I was curious if hackers would take advantage of times when public discorse was related to certain topics. One could think that perhaps hackers find it opportune to attack a country going through internal turbulence. A proxy for internal turbulence could be when public discorse centers around topics like war or health and emergencies. Or vice versa hackers might find it opportune to attack when a country is going through good times and its companies are failing to prioritze the need for cyber security investments. A proxy for good times could be when public discorse centers around topics such as civilian life or international cooperation."
   ]
  },
  {
   "cell_type": "code",
   "execution_count": 243,
   "id": "2f552da0",
   "metadata": {},
   "outputs": [],
   "source": [
    "import pandas as pd\n",
    "import numpy as np\n",
    "from sklearn.ensemble import RandomForestClassifier\n",
    "from pathlib import Path\n",
    "import matplotlib.pyplot as plt\n",
    "from sklearn.metrics import roc_auc_score\n",
    "from sklearn.metrics import average_precision_score\n",
    "import matplotlib.pyplot as plt\n",
    "from sklearn.metrics import roc_curve, auc, f1_score\n",
    "from sklearn.metrics import precision_recall_curve, confusion_matrix"
   ]
  },
  {
   "cell_type": "code",
   "execution_count": 186,
   "id": "8648dc03",
   "metadata": {},
   "outputs": [],
   "source": [
    "# Get Data\n",
    "\n",
    "data_dir = '/Users/erikagutierrez/Documents/BSE/Term_3/Nowcasting/Assignments/PSET_1/Data/'\n",
    "\n",
    "cyber_attacks = pd.read_csv(data_dir + 'monthly_cyber_attacks.csv')\n",
    "cyber_attacks.drop('Unnamed: 0', axis = 1, inplace = True)\n",
    "topics = pd.read_csv(data_dir + 'latest_conflictforecast_armedconf_3.csv')\n",
    "\n",
    "cyber_attacks.rename({'df_index': 'isocode'}, axis = 1, inplace = True)\n",
    "topics.rename({'year': 'Year', 'month': 'Month'}, axis = 1, inplace = True)\n",
    "\n",
    "cyber_attacks = pd.merge(cyber_attacks, topics, on = ['Month', 'Year', 'isocode'])\n",
    "\n",
    "cyber_attacks.rename({'Month':'month', 'Year':'year', 'Attacks':'attacks'}, axis = 1, inplace = True)\n",
    "\n",
    "cyber_attacks = cyber_attacks[['month', 'year', 'attacks', 'isocode', 'topic0', 'topic1', 'topic2', 'topic3', 'topic4', 'topic5', 'topic6',\n",
    "               'topic7', 'topic8', 'topic9', 'topic10', 'topic11', 'topic12',\n",
    "               'topic13', 'topic14']]"
   ]
  },
  {
   "cell_type": "markdown",
   "id": "69bf0176",
   "metadata": {},
   "source": [
    "My final dataset set contains 132 countries and spans from January 2014 to December 2022, making it 14,247 rows long. It looks like this:"
   ]
  },
  {
   "cell_type": "code",
   "execution_count": 187,
   "id": "4546c0c6",
   "metadata": {},
   "outputs": [
    {
     "data": {
      "text/html": [
       "<div>\n",
       "<style scoped>\n",
       "    .dataframe tbody tr th:only-of-type {\n",
       "        vertical-align: middle;\n",
       "    }\n",
       "\n",
       "    .dataframe tbody tr th {\n",
       "        vertical-align: top;\n",
       "    }\n",
       "\n",
       "    .dataframe thead th {\n",
       "        text-align: right;\n",
       "    }\n",
       "</style>\n",
       "<table border=\"1\" class=\"dataframe\">\n",
       "  <thead>\n",
       "    <tr style=\"text-align: right;\">\n",
       "      <th></th>\n",
       "      <th>month</th>\n",
       "      <th>year</th>\n",
       "      <th>attacks</th>\n",
       "      <th>isocode</th>\n",
       "      <th>topic0</th>\n",
       "      <th>topic1</th>\n",
       "      <th>topic2</th>\n",
       "      <th>topic3</th>\n",
       "      <th>topic4</th>\n",
       "      <th>topic5</th>\n",
       "      <th>topic6</th>\n",
       "      <th>topic7</th>\n",
       "      <th>topic8</th>\n",
       "      <th>topic9</th>\n",
       "      <th>topic10</th>\n",
       "      <th>topic11</th>\n",
       "      <th>topic12</th>\n",
       "      <th>topic13</th>\n",
       "      <th>topic14</th>\n",
       "    </tr>\n",
       "  </thead>\n",
       "  <tbody>\n",
       "    <tr>\n",
       "      <th>5583</th>\n",
       "      <td>9</td>\n",
       "      <td>2017</td>\n",
       "      <td>1.0</td>\n",
       "      <td>ARE</td>\n",
       "      <td>25.404179</td>\n",
       "      <td>5.680190</td>\n",
       "      <td>4.41116</td>\n",
       "      <td>4.897190</td>\n",
       "      <td>8.295279</td>\n",
       "      <td>7.859140</td>\n",
       "      <td>4.01506</td>\n",
       "      <td>4.019140</td>\n",
       "      <td>0.167620</td>\n",
       "      <td>2.763350</td>\n",
       "      <td>0.16762</td>\n",
       "      <td>27.615189</td>\n",
       "      <td>2.47671</td>\n",
       "      <td>0.48333</td>\n",
       "      <td>1.74484</td>\n",
       "    </tr>\n",
       "    <tr>\n",
       "      <th>8777</th>\n",
       "      <td>5</td>\n",
       "      <td>2016</td>\n",
       "      <td>0.0</td>\n",
       "      <td>IRL</td>\n",
       "      <td>18.958981</td>\n",
       "      <td>0.246870</td>\n",
       "      <td>1.53124</td>\n",
       "      <td>13.495291</td>\n",
       "      <td>6.693180</td>\n",
       "      <td>3.213980</td>\n",
       "      <td>1.20235</td>\n",
       "      <td>1.201550</td>\n",
       "      <td>34.042679</td>\n",
       "      <td>5.752510</td>\n",
       "      <td>0.60350</td>\n",
       "      <td>10.713429</td>\n",
       "      <td>1.09407</td>\n",
       "      <td>0.80669</td>\n",
       "      <td>0.44367</td>\n",
       "    </tr>\n",
       "    <tr>\n",
       "      <th>11871</th>\n",
       "      <td>1</td>\n",
       "      <td>2014</td>\n",
       "      <td>0.0</td>\n",
       "      <td>JAM</td>\n",
       "      <td>7.652190</td>\n",
       "      <td>3.309230</td>\n",
       "      <td>1.39141</td>\n",
       "      <td>0.464080</td>\n",
       "      <td>4.164070</td>\n",
       "      <td>20.167030</td>\n",
       "      <td>1.35125</td>\n",
       "      <td>8.302310</td>\n",
       "      <td>18.501291</td>\n",
       "      <td>3.663210</td>\n",
       "      <td>0.25188</td>\n",
       "      <td>25.699080</td>\n",
       "      <td>0.25188</td>\n",
       "      <td>1.54548</td>\n",
       "      <td>3.28562</td>\n",
       "    </tr>\n",
       "    <tr>\n",
       "      <th>4859</th>\n",
       "      <td>12</td>\n",
       "      <td>2022</td>\n",
       "      <td>0.0</td>\n",
       "      <td>TWN</td>\n",
       "      <td>16.818871</td>\n",
       "      <td>6.040390</td>\n",
       "      <td>24.19315</td>\n",
       "      <td>2.709260</td>\n",
       "      <td>6.988700</td>\n",
       "      <td>0.933490</td>\n",
       "      <td>1.23246</td>\n",
       "      <td>3.010360</td>\n",
       "      <td>1.210050</td>\n",
       "      <td>2.484380</td>\n",
       "      <td>8.81384</td>\n",
       "      <td>13.852390</td>\n",
       "      <td>2.81181</td>\n",
       "      <td>0.60946</td>\n",
       "      <td>8.29141</td>\n",
       "    </tr>\n",
       "    <tr>\n",
       "      <th>9537</th>\n",
       "      <td>5</td>\n",
       "      <td>2020</td>\n",
       "      <td>0.0</td>\n",
       "      <td>JOR</td>\n",
       "      <td>24.135571</td>\n",
       "      <td>2.703840</td>\n",
       "      <td>2.88490</td>\n",
       "      <td>0.837530</td>\n",
       "      <td>2.854510</td>\n",
       "      <td>4.996500</td>\n",
       "      <td>2.58037</td>\n",
       "      <td>1.829550</td>\n",
       "      <td>22.216450</td>\n",
       "      <td>1.057210</td>\n",
       "      <td>0.73886</td>\n",
       "      <td>26.870642</td>\n",
       "      <td>4.60280</td>\n",
       "      <td>0.16404</td>\n",
       "      <td>1.52724</td>\n",
       "    </tr>\n",
       "    <tr>\n",
       "      <th>12134</th>\n",
       "      <td>6</td>\n",
       "      <td>2016</td>\n",
       "      <td>0.0</td>\n",
       "      <td>BLR</td>\n",
       "      <td>2.418350</td>\n",
       "      <td>18.196291</td>\n",
       "      <td>4.61411</td>\n",
       "      <td>7.438260</td>\n",
       "      <td>8.749619</td>\n",
       "      <td>9.738030</td>\n",
       "      <td>1.58255</td>\n",
       "      <td>18.373499</td>\n",
       "      <td>1.065330</td>\n",
       "      <td>1.354400</td>\n",
       "      <td>7.76364</td>\n",
       "      <td>4.280510</td>\n",
       "      <td>11.45222</td>\n",
       "      <td>1.97333</td>\n",
       "      <td>0.99986</td>\n",
       "    </tr>\n",
       "    <tr>\n",
       "      <th>11636</th>\n",
       "      <td>10</td>\n",
       "      <td>2022</td>\n",
       "      <td>0.0</td>\n",
       "      <td>KWT</td>\n",
       "      <td>2.583530</td>\n",
       "      <td>13.240790</td>\n",
       "      <td>8.81244</td>\n",
       "      <td>47.234188</td>\n",
       "      <td>3.628190</td>\n",
       "      <td>5.635910</td>\n",
       "      <td>5.40933</td>\n",
       "      <td>0.656890</td>\n",
       "      <td>1.196740</td>\n",
       "      <td>0.380310</td>\n",
       "      <td>2.38277</td>\n",
       "      <td>0.751480</td>\n",
       "      <td>3.08799</td>\n",
       "      <td>4.61914</td>\n",
       "      <td>0.38031</td>\n",
       "    </tr>\n",
       "    <tr>\n",
       "      <th>861</th>\n",
       "      <td>12</td>\n",
       "      <td>2020</td>\n",
       "      <td>0.0</td>\n",
       "      <td>TJK</td>\n",
       "      <td>2.768410</td>\n",
       "      <td>15.682501</td>\n",
       "      <td>0.48586</td>\n",
       "      <td>0.731060</td>\n",
       "      <td>5.200520</td>\n",
       "      <td>14.925850</td>\n",
       "      <td>9.96392</td>\n",
       "      <td>21.265730</td>\n",
       "      <td>0.215220</td>\n",
       "      <td>3.594830</td>\n",
       "      <td>2.28733</td>\n",
       "      <td>3.642990</td>\n",
       "      <td>12.47737</td>\n",
       "      <td>3.07892</td>\n",
       "      <td>3.67949</td>\n",
       "    </tr>\n",
       "    <tr>\n",
       "      <th>7568</th>\n",
       "      <td>2</td>\n",
       "      <td>2022</td>\n",
       "      <td>0.0</td>\n",
       "      <td>VEN</td>\n",
       "      <td>7.794930</td>\n",
       "      <td>8.814051</td>\n",
       "      <td>15.45984</td>\n",
       "      <td>10.279880</td>\n",
       "      <td>3.527850</td>\n",
       "      <td>13.116869</td>\n",
       "      <td>2.82978</td>\n",
       "      <td>1.253690</td>\n",
       "      <td>0.737100</td>\n",
       "      <td>7.109030</td>\n",
       "      <td>7.40281</td>\n",
       "      <td>9.266331</td>\n",
       "      <td>11.49218</td>\n",
       "      <td>0.12875</td>\n",
       "      <td>0.78691</td>\n",
       "    </tr>\n",
       "    <tr>\n",
       "      <th>5912</th>\n",
       "      <td>9</td>\n",
       "      <td>2022</td>\n",
       "      <td>0.0</td>\n",
       "      <td>MEX</td>\n",
       "      <td>11.310900</td>\n",
       "      <td>2.984350</td>\n",
       "      <td>1.67448</td>\n",
       "      <td>11.079180</td>\n",
       "      <td>11.156120</td>\n",
       "      <td>14.283980</td>\n",
       "      <td>1.25156</td>\n",
       "      <td>6.968190</td>\n",
       "      <td>6.353310</td>\n",
       "      <td>7.723669</td>\n",
       "      <td>3.69048</td>\n",
       "      <td>17.475811</td>\n",
       "      <td>2.09585</td>\n",
       "      <td>1.11395</td>\n",
       "      <td>0.83817</td>\n",
       "    </tr>\n",
       "  </tbody>\n",
       "</table>\n",
       "</div>"
      ],
      "text/plain": [
       "       month  year  attacks isocode     topic0     topic1    topic2  \\\n",
       "5583       9  2017      1.0     ARE  25.404179   5.680190   4.41116   \n",
       "8777       5  2016      0.0     IRL  18.958981   0.246870   1.53124   \n",
       "11871      1  2014      0.0     JAM   7.652190   3.309230   1.39141   \n",
       "4859      12  2022      0.0     TWN  16.818871   6.040390  24.19315   \n",
       "9537       5  2020      0.0     JOR  24.135571   2.703840   2.88490   \n",
       "12134      6  2016      0.0     BLR   2.418350  18.196291   4.61411   \n",
       "11636     10  2022      0.0     KWT   2.583530  13.240790   8.81244   \n",
       "861       12  2020      0.0     TJK   2.768410  15.682501   0.48586   \n",
       "7568       2  2022      0.0     VEN   7.794930   8.814051  15.45984   \n",
       "5912       9  2022      0.0     MEX  11.310900   2.984350   1.67448   \n",
       "\n",
       "          topic3     topic4     topic5   topic6     topic7     topic8  \\\n",
       "5583    4.897190   8.295279   7.859140  4.01506   4.019140   0.167620   \n",
       "8777   13.495291   6.693180   3.213980  1.20235   1.201550  34.042679   \n",
       "11871   0.464080   4.164070  20.167030  1.35125   8.302310  18.501291   \n",
       "4859    2.709260   6.988700   0.933490  1.23246   3.010360   1.210050   \n",
       "9537    0.837530   2.854510   4.996500  2.58037   1.829550  22.216450   \n",
       "12134   7.438260   8.749619   9.738030  1.58255  18.373499   1.065330   \n",
       "11636  47.234188   3.628190   5.635910  5.40933   0.656890   1.196740   \n",
       "861     0.731060   5.200520  14.925850  9.96392  21.265730   0.215220   \n",
       "7568   10.279880   3.527850  13.116869  2.82978   1.253690   0.737100   \n",
       "5912   11.079180  11.156120  14.283980  1.25156   6.968190   6.353310   \n",
       "\n",
       "         topic9  topic10    topic11   topic12  topic13  topic14  \n",
       "5583   2.763350  0.16762  27.615189   2.47671  0.48333  1.74484  \n",
       "8777   5.752510  0.60350  10.713429   1.09407  0.80669  0.44367  \n",
       "11871  3.663210  0.25188  25.699080   0.25188  1.54548  3.28562  \n",
       "4859   2.484380  8.81384  13.852390   2.81181  0.60946  8.29141  \n",
       "9537   1.057210  0.73886  26.870642   4.60280  0.16404  1.52724  \n",
       "12134  1.354400  7.76364   4.280510  11.45222  1.97333  0.99986  \n",
       "11636  0.380310  2.38277   0.751480   3.08799  4.61914  0.38031  \n",
       "861    3.594830  2.28733   3.642990  12.47737  3.07892  3.67949  \n",
       "7568   7.109030  7.40281   9.266331  11.49218  0.12875  0.78691  \n",
       "5912   7.723669  3.69048  17.475811   2.09585  1.11395  0.83817  "
      ]
     },
     "execution_count": 187,
     "metadata": {},
     "output_type": "execute_result"
    }
   ],
   "source": [
    "cyber_attacks.sample(10)"
   ]
  },
  {
   "cell_type": "markdown",
   "id": "40d21b6e",
   "metadata": {},
   "source": [
    "I have the number of cyber attacks that occured at a country by month and year. I think an interesting extension would be to explore how to forecast the number of cyber attacks that will occur or turn the problem into a multi-class prediction one (e.g. forecasting levels of low, medium, and high risk based on number of attacks), but due to time contraints and the scope of this homework I will use a binary classification framework whereby I am forecasting whether a cyber attack will occur in the next 6 months.\n",
    "\n",
    "Cyber attacks pose a serious problem and can affect various parties ranging from governments, to businesses, to individuals. Cybersecurity Ventures, a lead research group in the global cyber economy, estimates that cybercrime will cost the world $8 trillion annually by 2023. \n",
    "\n",
    "For this assignment, the decision maker is the Chief Security Officer (CSO) of a small to mid-size company seeking approval in increasing their budget for cyber security by 25\\%. This forecast will provide complementary support for their proposal, since the model can forecast if there will be cyber attacks in their country of operation. If this is the case, it increases the likelihood that an attack is imminent for the company. "
   ]
  },
  {
   "cell_type": "markdown",
   "id": "f1d16a1e",
   "metadata": {},
   "source": [
    "The following articles support my argument that predicting cyber crime is a worthwhile area of research:\n",
    " - https://cybersecurityventures.com/cybercrime-to-cost-the-world-8-trillion-annually-in-2023/\n",
    " - https://www.ibm.com/downloads/cas/3R8N1DZJ"
   ]
  },
  {
   "cell_type": "code",
   "execution_count": 197,
   "id": "c3cec502",
   "metadata": {},
   "outputs": [],
   "source": [
    "# Create incidence target variable (in order to turn problem into a classification task)\n",
    "cyber_attacks['attack_incidence'] = 1\n",
    "cyber_attacks.loc[cyber_attacks[cyber_attacks['attacks'] == 0].index, 'attack_incidence'] = 0"
   ]
  },
  {
   "cell_type": "markdown",
   "id": "c47cdb43",
   "metadata": {},
   "source": [
    "I will not do feature engineering because the data is already in a format whereby using feature importances retrieved from the random forest classifier, I can analyze my original idea about what topics in public discourse can influence the instances of cyber attacks."
   ]
  },
  {
   "cell_type": "markdown",
   "id": "ccd898c7",
   "metadata": {},
   "source": [
    "Below I have adapted the notebook provided in class for my use case. "
   ]
  },
  {
   "cell_type": "code",
   "execution_count": 199,
   "id": "86ec049d",
   "metadata": {},
   "outputs": [],
   "source": [
    "#this makes the onset variable following the code in the prelude\n",
    "\n",
    "def make_target(df, t):\n",
    "    \n",
    "    # t is the number of periods for the shift\n",
    "\n",
    "    # loop through each period and generate the shift variables\n",
    "    for i in range(1, t+1):\n",
    "        col_name = f'attack_incidence_f{i}'\n",
    "        df[col_name] = df.groupby('isocode')['attack_incidence'].shift(-i)\n",
    "\n",
    "    # take the maximum for t periods forward and create the new variable\n",
    "    df['target_f{}'.format(t)] = df[[f'attack_incidence_f{i}' for i in range(1, t+1)]].max(axis=1, skipna=False)\n",
    "\n",
    "    # drop the shift variables\n",
    "    df = df.drop(columns=[f'attack_incidence_f{i}' for i in range(1, t+1)])\n",
    "    #choosing not to focus on onset\n",
    "    \n",
    "    #make the onset variable which ignores periods of ongoing conflict\n",
    "    #df['ons_target_f{}'.format(t)]=df['target_f{}'.format(t)]\n",
    "\n",
    "    #df.loc[df['attacks'] >= 1, 'ons_target_f{}'.format(t)] = np.nan\n",
    "    \n",
    "    return(df)"
   ]
  },
  {
   "cell_type": "code",
   "execution_count": 200,
   "id": "bae3e819",
   "metadata": {},
   "outputs": [],
   "source": [
    "#key part of code\n",
    "def prepare_slice(topics, year, month, deps, forward):\n",
    "    \n",
    "    data = cyber_attacks.copy()\n",
    "    \n",
    "    #the future data is the data we use to produce the fitted values that are stored\n",
    "    future = data.drop(data[(data.year != year) | (data.month != month)].index) # drop everything that is not the specified dates\n",
    "    data = data.drop(data[((data.year > year)) | ((data.year == year) & (data.month >= month))].index) # drop everything that is the specified dates or after \n",
    "\n",
    "    #make the target variable through the function above\n",
    "    #important: this will set to NA the last \"forward\" observations each country\n",
    "    data = make_target(data, forward)\n",
    "    \n",
    "    features = []\n",
    "    \n",
    "    for topic in range(topics):\n",
    "        features.append('topic' + str(topic))\n",
    "    \n",
    "    for dep in deps:\n",
    "        features.append(dep)\n",
    "        \n",
    "        \n",
    "    features.append('isocode')\n",
    "    features.append('year')\n",
    "    features.append('month')\n",
    "    #features.append('best_model')\n",
    "    \n",
    "    #model 1 is the full or augmented model\n",
    "    data2 = data[features]\n",
    "    df1 = data2.dropna(how='any')\n",
    "    df2 = df1[deps]\n",
    "    #dependent variable for full model\n",
    "    ys = df2.values.ravel()\n",
    "    \n",
    "    #now get the model back\n",
    "    features.remove(dep)    \n",
    "    \n",
    "    #prepare out of sample for the models\n",
    "    future2 = future[features]\n",
    "    future_df1 = future2.dropna(how='any')\n",
    "    \n",
    "    for feat in ['isocode', 'year', 'month']:\n",
    "        features.remove(feat)\n",
    "    \n",
    "    #training data\n",
    "    X = df1[features]\n",
    "\n",
    "    #data at time T for producing fitted values\n",
    "    X_future = future_df1[features]\n",
    "    \n",
    "    #the order here is a bit odd as I added the j (history) model later\n",
    "    return ys, X, X_future, future_df1"
   ]
  },
  {
   "cell_type": "code",
   "execution_count": 201,
   "id": "41c9fa78",
   "metadata": {},
   "outputs": [],
   "source": [
    "def runsearch(Xs, ys):   \n",
    "    print(\"going in\")\n",
    "\n",
    "    model = RandomForestClassifier()\n",
    "    parameters = {'max_depth': [4, 8],\n",
    "                  'min_samples_leaf': [50, 100],\n",
    "                  'n_estimators':[700]}\n",
    "\n",
    "    grid = GridSearchCV(return_train_score=True, estimator=model, param_grid = parameters, cv = 3, n_jobs=-1, scoring='roc_auc', verbose=2)\n",
    "    grid.fit(Xs, ys)\n",
    "\n",
    "    print(grid.best_params_)\n",
    "    print(grid.best_score_)\n",
    "    print(grid.cv_results_)\n",
    "    \n",
    "    clf=RandomForestClassifier(**grid.best_params_)\n",
    "    \n",
    "    return clf"
   ]
  },
  {
   "cell_type": "code",
   "execution_count": 202,
   "id": "4c96b610",
   "metadata": {},
   "outputs": [],
   "source": [
    "def setparams(treenumber, depthnumber, min_samples_number, min_samples_leaf_number):  \n",
    "    print(\"setting parameters\")\n",
    "    print(\"they are:\", treenumber, depthnumber, min_samples_number, min_samples_leaf_number)\n",
    "    \n",
    "    clf=RandomForestClassifier(n_estimators=treenumber,  max_depth =depthnumber, \n",
    "                               min_samples_split =min_samples_number, min_samples_leaf = min_samples_leaf_number\n",
    "                             ,n_jobs=8)\n",
    "    return clf"
   ]
  },
  {
   "cell_type": "code",
   "execution_count": 203,
   "id": "1ef53c8b",
   "metadata": {},
   "outputs": [
    {
     "name": "stdout",
     "output_type": "stream",
     "text": [
      "setting parameters\n",
      "they are: 700 8 2 100\n",
      "2015 1\n"
     ]
    },
    {
     "name": "stderr",
     "output_type": "stream",
     "text": [
      "/var/folders/w6/q5_zm221051fpvtg0kr3dy480000gn/T/ipykernel_53544/1309178710.py:82: SettingWithCopyWarning: \n",
      "A value is trying to be set on a copy of a slice from a DataFrame.\n",
      "Try using .loc[row_indexer,col_indexer] = value instead\n",
      "\n",
      "See the caveats in the documentation: https://pandas.pydata.org/pandas-docs/stable/user_guide/indexing.html#returning-a-view-versus-a-copy\n",
      "  fittedframe_future[deps[0]+'_pred'] = res[:,1]\n",
      "/var/folders/w6/q5_zm221051fpvtg0kr3dy480000gn/T/ipykernel_53544/1309178710.py:83: SettingWithCopyWarning: \n",
      "A value is trying to be set on a copy of a slice from a DataFrame.\n",
      "Try using .loc[row_indexer,col_indexer] = value instead\n",
      "\n",
      "See the caveats in the documentation: https://pandas.pydata.org/pandas-docs/stable/user_guide/indexing.html#returning-a-view-versus-a-copy\n",
      "  fittedframe_future[deps[0]+'_pred_label'] = pred_label\n"
     ]
    },
    {
     "name": "stdout",
     "output_type": "stream",
     "text": [
      "2015 2\n"
     ]
    },
    {
     "name": "stderr",
     "output_type": "stream",
     "text": [
      "/var/folders/w6/q5_zm221051fpvtg0kr3dy480000gn/T/ipykernel_53544/1309178710.py:82: SettingWithCopyWarning: \n",
      "A value is trying to be set on a copy of a slice from a DataFrame.\n",
      "Try using .loc[row_indexer,col_indexer] = value instead\n",
      "\n",
      "See the caveats in the documentation: https://pandas.pydata.org/pandas-docs/stable/user_guide/indexing.html#returning-a-view-versus-a-copy\n",
      "  fittedframe_future[deps[0]+'_pred'] = res[:,1]\n",
      "/var/folders/w6/q5_zm221051fpvtg0kr3dy480000gn/T/ipykernel_53544/1309178710.py:83: SettingWithCopyWarning: \n",
      "A value is trying to be set on a copy of a slice from a DataFrame.\n",
      "Try using .loc[row_indexer,col_indexer] = value instead\n",
      "\n",
      "See the caveats in the documentation: https://pandas.pydata.org/pandas-docs/stable/user_guide/indexing.html#returning-a-view-versus-a-copy\n",
      "  fittedframe_future[deps[0]+'_pred_label'] = pred_label\n"
     ]
    },
    {
     "name": "stdout",
     "output_type": "stream",
     "text": [
      "2015 3\n"
     ]
    },
    {
     "name": "stderr",
     "output_type": "stream",
     "text": [
      "/var/folders/w6/q5_zm221051fpvtg0kr3dy480000gn/T/ipykernel_53544/1309178710.py:82: SettingWithCopyWarning: \n",
      "A value is trying to be set on a copy of a slice from a DataFrame.\n",
      "Try using .loc[row_indexer,col_indexer] = value instead\n",
      "\n",
      "See the caveats in the documentation: https://pandas.pydata.org/pandas-docs/stable/user_guide/indexing.html#returning-a-view-versus-a-copy\n",
      "  fittedframe_future[deps[0]+'_pred'] = res[:,1]\n",
      "/var/folders/w6/q5_zm221051fpvtg0kr3dy480000gn/T/ipykernel_53544/1309178710.py:83: SettingWithCopyWarning: \n",
      "A value is trying to be set on a copy of a slice from a DataFrame.\n",
      "Try using .loc[row_indexer,col_indexer] = value instead\n",
      "\n",
      "See the caveats in the documentation: https://pandas.pydata.org/pandas-docs/stable/user_guide/indexing.html#returning-a-view-versus-a-copy\n",
      "  fittedframe_future[deps[0]+'_pred_label'] = pred_label\n"
     ]
    },
    {
     "name": "stdout",
     "output_type": "stream",
     "text": [
      "2015 4\n"
     ]
    },
    {
     "name": "stderr",
     "output_type": "stream",
     "text": [
      "/var/folders/w6/q5_zm221051fpvtg0kr3dy480000gn/T/ipykernel_53544/1309178710.py:82: SettingWithCopyWarning: \n",
      "A value is trying to be set on a copy of a slice from a DataFrame.\n",
      "Try using .loc[row_indexer,col_indexer] = value instead\n",
      "\n",
      "See the caveats in the documentation: https://pandas.pydata.org/pandas-docs/stable/user_guide/indexing.html#returning-a-view-versus-a-copy\n",
      "  fittedframe_future[deps[0]+'_pred'] = res[:,1]\n",
      "/var/folders/w6/q5_zm221051fpvtg0kr3dy480000gn/T/ipykernel_53544/1309178710.py:83: SettingWithCopyWarning: \n",
      "A value is trying to be set on a copy of a slice from a DataFrame.\n",
      "Try using .loc[row_indexer,col_indexer] = value instead\n",
      "\n",
      "See the caveats in the documentation: https://pandas.pydata.org/pandas-docs/stable/user_guide/indexing.html#returning-a-view-versus-a-copy\n",
      "  fittedframe_future[deps[0]+'_pred_label'] = pred_label\n"
     ]
    },
    {
     "name": "stdout",
     "output_type": "stream",
     "text": [
      "2015 5\n"
     ]
    },
    {
     "name": "stderr",
     "output_type": "stream",
     "text": [
      "/var/folders/w6/q5_zm221051fpvtg0kr3dy480000gn/T/ipykernel_53544/1309178710.py:82: SettingWithCopyWarning: \n",
      "A value is trying to be set on a copy of a slice from a DataFrame.\n",
      "Try using .loc[row_indexer,col_indexer] = value instead\n",
      "\n",
      "See the caveats in the documentation: https://pandas.pydata.org/pandas-docs/stable/user_guide/indexing.html#returning-a-view-versus-a-copy\n",
      "  fittedframe_future[deps[0]+'_pred'] = res[:,1]\n",
      "/var/folders/w6/q5_zm221051fpvtg0kr3dy480000gn/T/ipykernel_53544/1309178710.py:83: SettingWithCopyWarning: \n",
      "A value is trying to be set on a copy of a slice from a DataFrame.\n",
      "Try using .loc[row_indexer,col_indexer] = value instead\n",
      "\n",
      "See the caveats in the documentation: https://pandas.pydata.org/pandas-docs/stable/user_guide/indexing.html#returning-a-view-versus-a-copy\n",
      "  fittedframe_future[deps[0]+'_pred_label'] = pred_label\n"
     ]
    },
    {
     "name": "stdout",
     "output_type": "stream",
     "text": [
      "2015 6\n"
     ]
    },
    {
     "name": "stderr",
     "output_type": "stream",
     "text": [
      "/var/folders/w6/q5_zm221051fpvtg0kr3dy480000gn/T/ipykernel_53544/1309178710.py:82: SettingWithCopyWarning: \n",
      "A value is trying to be set on a copy of a slice from a DataFrame.\n",
      "Try using .loc[row_indexer,col_indexer] = value instead\n",
      "\n",
      "See the caveats in the documentation: https://pandas.pydata.org/pandas-docs/stable/user_guide/indexing.html#returning-a-view-versus-a-copy\n",
      "  fittedframe_future[deps[0]+'_pred'] = res[:,1]\n",
      "/var/folders/w6/q5_zm221051fpvtg0kr3dy480000gn/T/ipykernel_53544/1309178710.py:83: SettingWithCopyWarning: \n",
      "A value is trying to be set on a copy of a slice from a DataFrame.\n",
      "Try using .loc[row_indexer,col_indexer] = value instead\n",
      "\n",
      "See the caveats in the documentation: https://pandas.pydata.org/pandas-docs/stable/user_guide/indexing.html#returning-a-view-versus-a-copy\n",
      "  fittedframe_future[deps[0]+'_pred_label'] = pred_label\n"
     ]
    },
    {
     "name": "stdout",
     "output_type": "stream",
     "text": [
      "2015 7\n"
     ]
    },
    {
     "name": "stderr",
     "output_type": "stream",
     "text": [
      "/var/folders/w6/q5_zm221051fpvtg0kr3dy480000gn/T/ipykernel_53544/1309178710.py:82: SettingWithCopyWarning: \n",
      "A value is trying to be set on a copy of a slice from a DataFrame.\n",
      "Try using .loc[row_indexer,col_indexer] = value instead\n",
      "\n",
      "See the caveats in the documentation: https://pandas.pydata.org/pandas-docs/stable/user_guide/indexing.html#returning-a-view-versus-a-copy\n",
      "  fittedframe_future[deps[0]+'_pred'] = res[:,1]\n",
      "/var/folders/w6/q5_zm221051fpvtg0kr3dy480000gn/T/ipykernel_53544/1309178710.py:83: SettingWithCopyWarning: \n",
      "A value is trying to be set on a copy of a slice from a DataFrame.\n",
      "Try using .loc[row_indexer,col_indexer] = value instead\n",
      "\n",
      "See the caveats in the documentation: https://pandas.pydata.org/pandas-docs/stable/user_guide/indexing.html#returning-a-view-versus-a-copy\n",
      "  fittedframe_future[deps[0]+'_pred_label'] = pred_label\n"
     ]
    },
    {
     "name": "stdout",
     "output_type": "stream",
     "text": [
      "2015 8\n"
     ]
    },
    {
     "name": "stderr",
     "output_type": "stream",
     "text": [
      "/var/folders/w6/q5_zm221051fpvtg0kr3dy480000gn/T/ipykernel_53544/1309178710.py:82: SettingWithCopyWarning: \n",
      "A value is trying to be set on a copy of a slice from a DataFrame.\n",
      "Try using .loc[row_indexer,col_indexer] = value instead\n",
      "\n",
      "See the caveats in the documentation: https://pandas.pydata.org/pandas-docs/stable/user_guide/indexing.html#returning-a-view-versus-a-copy\n",
      "  fittedframe_future[deps[0]+'_pred'] = res[:,1]\n",
      "/var/folders/w6/q5_zm221051fpvtg0kr3dy480000gn/T/ipykernel_53544/1309178710.py:83: SettingWithCopyWarning: \n",
      "A value is trying to be set on a copy of a slice from a DataFrame.\n",
      "Try using .loc[row_indexer,col_indexer] = value instead\n",
      "\n",
      "See the caveats in the documentation: https://pandas.pydata.org/pandas-docs/stable/user_guide/indexing.html#returning-a-view-versus-a-copy\n",
      "  fittedframe_future[deps[0]+'_pred_label'] = pred_label\n"
     ]
    },
    {
     "name": "stdout",
     "output_type": "stream",
     "text": [
      "2015 9\n"
     ]
    },
    {
     "name": "stderr",
     "output_type": "stream",
     "text": [
      "/var/folders/w6/q5_zm221051fpvtg0kr3dy480000gn/T/ipykernel_53544/1309178710.py:82: SettingWithCopyWarning: \n",
      "A value is trying to be set on a copy of a slice from a DataFrame.\n",
      "Try using .loc[row_indexer,col_indexer] = value instead\n",
      "\n",
      "See the caveats in the documentation: https://pandas.pydata.org/pandas-docs/stable/user_guide/indexing.html#returning-a-view-versus-a-copy\n",
      "  fittedframe_future[deps[0]+'_pred'] = res[:,1]\n",
      "/var/folders/w6/q5_zm221051fpvtg0kr3dy480000gn/T/ipykernel_53544/1309178710.py:83: SettingWithCopyWarning: \n",
      "A value is trying to be set on a copy of a slice from a DataFrame.\n",
      "Try using .loc[row_indexer,col_indexer] = value instead\n",
      "\n",
      "See the caveats in the documentation: https://pandas.pydata.org/pandas-docs/stable/user_guide/indexing.html#returning-a-view-versus-a-copy\n",
      "  fittedframe_future[deps[0]+'_pred_label'] = pred_label\n"
     ]
    },
    {
     "name": "stdout",
     "output_type": "stream",
     "text": [
      "2015 10\n"
     ]
    },
    {
     "name": "stderr",
     "output_type": "stream",
     "text": [
      "/var/folders/w6/q5_zm221051fpvtg0kr3dy480000gn/T/ipykernel_53544/1309178710.py:82: SettingWithCopyWarning: \n",
      "A value is trying to be set on a copy of a slice from a DataFrame.\n",
      "Try using .loc[row_indexer,col_indexer] = value instead\n",
      "\n",
      "See the caveats in the documentation: https://pandas.pydata.org/pandas-docs/stable/user_guide/indexing.html#returning-a-view-versus-a-copy\n",
      "  fittedframe_future[deps[0]+'_pred'] = res[:,1]\n",
      "/var/folders/w6/q5_zm221051fpvtg0kr3dy480000gn/T/ipykernel_53544/1309178710.py:83: SettingWithCopyWarning: \n",
      "A value is trying to be set on a copy of a slice from a DataFrame.\n",
      "Try using .loc[row_indexer,col_indexer] = value instead\n",
      "\n",
      "See the caveats in the documentation: https://pandas.pydata.org/pandas-docs/stable/user_guide/indexing.html#returning-a-view-versus-a-copy\n",
      "  fittedframe_future[deps[0]+'_pred_label'] = pred_label\n"
     ]
    },
    {
     "name": "stdout",
     "output_type": "stream",
     "text": [
      "2015 11\n"
     ]
    },
    {
     "name": "stderr",
     "output_type": "stream",
     "text": [
      "/var/folders/w6/q5_zm221051fpvtg0kr3dy480000gn/T/ipykernel_53544/1309178710.py:82: SettingWithCopyWarning: \n",
      "A value is trying to be set on a copy of a slice from a DataFrame.\n",
      "Try using .loc[row_indexer,col_indexer] = value instead\n",
      "\n",
      "See the caveats in the documentation: https://pandas.pydata.org/pandas-docs/stable/user_guide/indexing.html#returning-a-view-versus-a-copy\n",
      "  fittedframe_future[deps[0]+'_pred'] = res[:,1]\n",
      "/var/folders/w6/q5_zm221051fpvtg0kr3dy480000gn/T/ipykernel_53544/1309178710.py:83: SettingWithCopyWarning: \n",
      "A value is trying to be set on a copy of a slice from a DataFrame.\n",
      "Try using .loc[row_indexer,col_indexer] = value instead\n",
      "\n",
      "See the caveats in the documentation: https://pandas.pydata.org/pandas-docs/stable/user_guide/indexing.html#returning-a-view-versus-a-copy\n",
      "  fittedframe_future[deps[0]+'_pred_label'] = pred_label\n"
     ]
    },
    {
     "name": "stdout",
     "output_type": "stream",
     "text": [
      "2015 12\n"
     ]
    },
    {
     "name": "stderr",
     "output_type": "stream",
     "text": [
      "/var/folders/w6/q5_zm221051fpvtg0kr3dy480000gn/T/ipykernel_53544/1309178710.py:82: SettingWithCopyWarning: \n",
      "A value is trying to be set on a copy of a slice from a DataFrame.\n",
      "Try using .loc[row_indexer,col_indexer] = value instead\n",
      "\n",
      "See the caveats in the documentation: https://pandas.pydata.org/pandas-docs/stable/user_guide/indexing.html#returning-a-view-versus-a-copy\n",
      "  fittedframe_future[deps[0]+'_pred'] = res[:,1]\n",
      "/var/folders/w6/q5_zm221051fpvtg0kr3dy480000gn/T/ipykernel_53544/1309178710.py:83: SettingWithCopyWarning: \n",
      "A value is trying to be set on a copy of a slice from a DataFrame.\n",
      "Try using .loc[row_indexer,col_indexer] = value instead\n",
      "\n",
      "See the caveats in the documentation: https://pandas.pydata.org/pandas-docs/stable/user_guide/indexing.html#returning-a-view-versus-a-copy\n",
      "  fittedframe_future[deps[0]+'_pred_label'] = pred_label\n"
     ]
    },
    {
     "name": "stdout",
     "output_type": "stream",
     "text": [
      "2016 1\n"
     ]
    },
    {
     "name": "stderr",
     "output_type": "stream",
     "text": [
      "/var/folders/w6/q5_zm221051fpvtg0kr3dy480000gn/T/ipykernel_53544/1309178710.py:82: SettingWithCopyWarning: \n",
      "A value is trying to be set on a copy of a slice from a DataFrame.\n",
      "Try using .loc[row_indexer,col_indexer] = value instead\n",
      "\n",
      "See the caveats in the documentation: https://pandas.pydata.org/pandas-docs/stable/user_guide/indexing.html#returning-a-view-versus-a-copy\n",
      "  fittedframe_future[deps[0]+'_pred'] = res[:,1]\n",
      "/var/folders/w6/q5_zm221051fpvtg0kr3dy480000gn/T/ipykernel_53544/1309178710.py:83: SettingWithCopyWarning: \n",
      "A value is trying to be set on a copy of a slice from a DataFrame.\n",
      "Try using .loc[row_indexer,col_indexer] = value instead\n",
      "\n",
      "See the caveats in the documentation: https://pandas.pydata.org/pandas-docs/stable/user_guide/indexing.html#returning-a-view-versus-a-copy\n",
      "  fittedframe_future[deps[0]+'_pred_label'] = pred_label\n"
     ]
    },
    {
     "name": "stdout",
     "output_type": "stream",
     "text": [
      "2016 2\n"
     ]
    },
    {
     "name": "stderr",
     "output_type": "stream",
     "text": [
      "/var/folders/w6/q5_zm221051fpvtg0kr3dy480000gn/T/ipykernel_53544/1309178710.py:82: SettingWithCopyWarning: \n",
      "A value is trying to be set on a copy of a slice from a DataFrame.\n",
      "Try using .loc[row_indexer,col_indexer] = value instead\n",
      "\n",
      "See the caveats in the documentation: https://pandas.pydata.org/pandas-docs/stable/user_guide/indexing.html#returning-a-view-versus-a-copy\n",
      "  fittedframe_future[deps[0]+'_pred'] = res[:,1]\n",
      "/var/folders/w6/q5_zm221051fpvtg0kr3dy480000gn/T/ipykernel_53544/1309178710.py:83: SettingWithCopyWarning: \n",
      "A value is trying to be set on a copy of a slice from a DataFrame.\n",
      "Try using .loc[row_indexer,col_indexer] = value instead\n",
      "\n",
      "See the caveats in the documentation: https://pandas.pydata.org/pandas-docs/stable/user_guide/indexing.html#returning-a-view-versus-a-copy\n",
      "  fittedframe_future[deps[0]+'_pred_label'] = pred_label\n"
     ]
    },
    {
     "name": "stdout",
     "output_type": "stream",
     "text": [
      "2016 3\n"
     ]
    },
    {
     "name": "stderr",
     "output_type": "stream",
     "text": [
      "/var/folders/w6/q5_zm221051fpvtg0kr3dy480000gn/T/ipykernel_53544/1309178710.py:82: SettingWithCopyWarning: \n",
      "A value is trying to be set on a copy of a slice from a DataFrame.\n",
      "Try using .loc[row_indexer,col_indexer] = value instead\n",
      "\n",
      "See the caveats in the documentation: https://pandas.pydata.org/pandas-docs/stable/user_guide/indexing.html#returning-a-view-versus-a-copy\n",
      "  fittedframe_future[deps[0]+'_pred'] = res[:,1]\n",
      "/var/folders/w6/q5_zm221051fpvtg0kr3dy480000gn/T/ipykernel_53544/1309178710.py:83: SettingWithCopyWarning: \n",
      "A value is trying to be set on a copy of a slice from a DataFrame.\n",
      "Try using .loc[row_indexer,col_indexer] = value instead\n",
      "\n",
      "See the caveats in the documentation: https://pandas.pydata.org/pandas-docs/stable/user_guide/indexing.html#returning-a-view-versus-a-copy\n",
      "  fittedframe_future[deps[0]+'_pred_label'] = pred_label\n"
     ]
    },
    {
     "name": "stdout",
     "output_type": "stream",
     "text": [
      "2016 4\n"
     ]
    },
    {
     "name": "stderr",
     "output_type": "stream",
     "text": [
      "/var/folders/w6/q5_zm221051fpvtg0kr3dy480000gn/T/ipykernel_53544/1309178710.py:82: SettingWithCopyWarning: \n",
      "A value is trying to be set on a copy of a slice from a DataFrame.\n",
      "Try using .loc[row_indexer,col_indexer] = value instead\n",
      "\n",
      "See the caveats in the documentation: https://pandas.pydata.org/pandas-docs/stable/user_guide/indexing.html#returning-a-view-versus-a-copy\n",
      "  fittedframe_future[deps[0]+'_pred'] = res[:,1]\n",
      "/var/folders/w6/q5_zm221051fpvtg0kr3dy480000gn/T/ipykernel_53544/1309178710.py:83: SettingWithCopyWarning: \n",
      "A value is trying to be set on a copy of a slice from a DataFrame.\n",
      "Try using .loc[row_indexer,col_indexer] = value instead\n",
      "\n",
      "See the caveats in the documentation: https://pandas.pydata.org/pandas-docs/stable/user_guide/indexing.html#returning-a-view-versus-a-copy\n",
      "  fittedframe_future[deps[0]+'_pred_label'] = pred_label\n"
     ]
    },
    {
     "name": "stdout",
     "output_type": "stream",
     "text": [
      "2016 5\n"
     ]
    },
    {
     "name": "stderr",
     "output_type": "stream",
     "text": [
      "/var/folders/w6/q5_zm221051fpvtg0kr3dy480000gn/T/ipykernel_53544/1309178710.py:82: SettingWithCopyWarning: \n",
      "A value is trying to be set on a copy of a slice from a DataFrame.\n",
      "Try using .loc[row_indexer,col_indexer] = value instead\n",
      "\n",
      "See the caveats in the documentation: https://pandas.pydata.org/pandas-docs/stable/user_guide/indexing.html#returning-a-view-versus-a-copy\n",
      "  fittedframe_future[deps[0]+'_pred'] = res[:,1]\n",
      "/var/folders/w6/q5_zm221051fpvtg0kr3dy480000gn/T/ipykernel_53544/1309178710.py:83: SettingWithCopyWarning: \n",
      "A value is trying to be set on a copy of a slice from a DataFrame.\n",
      "Try using .loc[row_indexer,col_indexer] = value instead\n",
      "\n",
      "See the caveats in the documentation: https://pandas.pydata.org/pandas-docs/stable/user_guide/indexing.html#returning-a-view-versus-a-copy\n",
      "  fittedframe_future[deps[0]+'_pred_label'] = pred_label\n"
     ]
    },
    {
     "name": "stdout",
     "output_type": "stream",
     "text": [
      "2016 6\n"
     ]
    },
    {
     "name": "stderr",
     "output_type": "stream",
     "text": [
      "/var/folders/w6/q5_zm221051fpvtg0kr3dy480000gn/T/ipykernel_53544/1309178710.py:82: SettingWithCopyWarning: \n",
      "A value is trying to be set on a copy of a slice from a DataFrame.\n",
      "Try using .loc[row_indexer,col_indexer] = value instead\n",
      "\n",
      "See the caveats in the documentation: https://pandas.pydata.org/pandas-docs/stable/user_guide/indexing.html#returning-a-view-versus-a-copy\n",
      "  fittedframe_future[deps[0]+'_pred'] = res[:,1]\n",
      "/var/folders/w6/q5_zm221051fpvtg0kr3dy480000gn/T/ipykernel_53544/1309178710.py:83: SettingWithCopyWarning: \n",
      "A value is trying to be set on a copy of a slice from a DataFrame.\n",
      "Try using .loc[row_indexer,col_indexer] = value instead\n",
      "\n",
      "See the caveats in the documentation: https://pandas.pydata.org/pandas-docs/stable/user_guide/indexing.html#returning-a-view-versus-a-copy\n",
      "  fittedframe_future[deps[0]+'_pred_label'] = pred_label\n"
     ]
    },
    {
     "name": "stdout",
     "output_type": "stream",
     "text": [
      "2016 7\n"
     ]
    },
    {
     "name": "stderr",
     "output_type": "stream",
     "text": [
      "/var/folders/w6/q5_zm221051fpvtg0kr3dy480000gn/T/ipykernel_53544/1309178710.py:82: SettingWithCopyWarning: \n",
      "A value is trying to be set on a copy of a slice from a DataFrame.\n",
      "Try using .loc[row_indexer,col_indexer] = value instead\n",
      "\n",
      "See the caveats in the documentation: https://pandas.pydata.org/pandas-docs/stable/user_guide/indexing.html#returning-a-view-versus-a-copy\n",
      "  fittedframe_future[deps[0]+'_pred'] = res[:,1]\n",
      "/var/folders/w6/q5_zm221051fpvtg0kr3dy480000gn/T/ipykernel_53544/1309178710.py:83: SettingWithCopyWarning: \n",
      "A value is trying to be set on a copy of a slice from a DataFrame.\n",
      "Try using .loc[row_indexer,col_indexer] = value instead\n",
      "\n",
      "See the caveats in the documentation: https://pandas.pydata.org/pandas-docs/stable/user_guide/indexing.html#returning-a-view-versus-a-copy\n",
      "  fittedframe_future[deps[0]+'_pred_label'] = pred_label\n"
     ]
    },
    {
     "name": "stdout",
     "output_type": "stream",
     "text": [
      "2016 8\n"
     ]
    },
    {
     "name": "stderr",
     "output_type": "stream",
     "text": [
      "/var/folders/w6/q5_zm221051fpvtg0kr3dy480000gn/T/ipykernel_53544/1309178710.py:82: SettingWithCopyWarning: \n",
      "A value is trying to be set on a copy of a slice from a DataFrame.\n",
      "Try using .loc[row_indexer,col_indexer] = value instead\n",
      "\n",
      "See the caveats in the documentation: https://pandas.pydata.org/pandas-docs/stable/user_guide/indexing.html#returning-a-view-versus-a-copy\n",
      "  fittedframe_future[deps[0]+'_pred'] = res[:,1]\n",
      "/var/folders/w6/q5_zm221051fpvtg0kr3dy480000gn/T/ipykernel_53544/1309178710.py:83: SettingWithCopyWarning: \n",
      "A value is trying to be set on a copy of a slice from a DataFrame.\n",
      "Try using .loc[row_indexer,col_indexer] = value instead\n",
      "\n",
      "See the caveats in the documentation: https://pandas.pydata.org/pandas-docs/stable/user_guide/indexing.html#returning-a-view-versus-a-copy\n",
      "  fittedframe_future[deps[0]+'_pred_label'] = pred_label\n"
     ]
    },
    {
     "name": "stdout",
     "output_type": "stream",
     "text": [
      "2016 9\n"
     ]
    },
    {
     "name": "stderr",
     "output_type": "stream",
     "text": [
      "/var/folders/w6/q5_zm221051fpvtg0kr3dy480000gn/T/ipykernel_53544/1309178710.py:82: SettingWithCopyWarning: \n",
      "A value is trying to be set on a copy of a slice from a DataFrame.\n",
      "Try using .loc[row_indexer,col_indexer] = value instead\n",
      "\n",
      "See the caveats in the documentation: https://pandas.pydata.org/pandas-docs/stable/user_guide/indexing.html#returning-a-view-versus-a-copy\n",
      "  fittedframe_future[deps[0]+'_pred'] = res[:,1]\n",
      "/var/folders/w6/q5_zm221051fpvtg0kr3dy480000gn/T/ipykernel_53544/1309178710.py:83: SettingWithCopyWarning: \n",
      "A value is trying to be set on a copy of a slice from a DataFrame.\n",
      "Try using .loc[row_indexer,col_indexer] = value instead\n",
      "\n",
      "See the caveats in the documentation: https://pandas.pydata.org/pandas-docs/stable/user_guide/indexing.html#returning-a-view-versus-a-copy\n",
      "  fittedframe_future[deps[0]+'_pred_label'] = pred_label\n"
     ]
    },
    {
     "name": "stdout",
     "output_type": "stream",
     "text": [
      "2016 10\n"
     ]
    },
    {
     "name": "stderr",
     "output_type": "stream",
     "text": [
      "/var/folders/w6/q5_zm221051fpvtg0kr3dy480000gn/T/ipykernel_53544/1309178710.py:82: SettingWithCopyWarning: \n",
      "A value is trying to be set on a copy of a slice from a DataFrame.\n",
      "Try using .loc[row_indexer,col_indexer] = value instead\n",
      "\n",
      "See the caveats in the documentation: https://pandas.pydata.org/pandas-docs/stable/user_guide/indexing.html#returning-a-view-versus-a-copy\n",
      "  fittedframe_future[deps[0]+'_pred'] = res[:,1]\n",
      "/var/folders/w6/q5_zm221051fpvtg0kr3dy480000gn/T/ipykernel_53544/1309178710.py:83: SettingWithCopyWarning: \n",
      "A value is trying to be set on a copy of a slice from a DataFrame.\n",
      "Try using .loc[row_indexer,col_indexer] = value instead\n",
      "\n",
      "See the caveats in the documentation: https://pandas.pydata.org/pandas-docs/stable/user_guide/indexing.html#returning-a-view-versus-a-copy\n",
      "  fittedframe_future[deps[0]+'_pred_label'] = pred_label\n"
     ]
    },
    {
     "name": "stdout",
     "output_type": "stream",
     "text": [
      "2016 11\n"
     ]
    },
    {
     "name": "stderr",
     "output_type": "stream",
     "text": [
      "/var/folders/w6/q5_zm221051fpvtg0kr3dy480000gn/T/ipykernel_53544/1309178710.py:82: SettingWithCopyWarning: \n",
      "A value is trying to be set on a copy of a slice from a DataFrame.\n",
      "Try using .loc[row_indexer,col_indexer] = value instead\n",
      "\n",
      "See the caveats in the documentation: https://pandas.pydata.org/pandas-docs/stable/user_guide/indexing.html#returning-a-view-versus-a-copy\n",
      "  fittedframe_future[deps[0]+'_pred'] = res[:,1]\n",
      "/var/folders/w6/q5_zm221051fpvtg0kr3dy480000gn/T/ipykernel_53544/1309178710.py:83: SettingWithCopyWarning: \n",
      "A value is trying to be set on a copy of a slice from a DataFrame.\n",
      "Try using .loc[row_indexer,col_indexer] = value instead\n",
      "\n",
      "See the caveats in the documentation: https://pandas.pydata.org/pandas-docs/stable/user_guide/indexing.html#returning-a-view-versus-a-copy\n",
      "  fittedframe_future[deps[0]+'_pred_label'] = pred_label\n"
     ]
    },
    {
     "name": "stdout",
     "output_type": "stream",
     "text": [
      "2016 12\n"
     ]
    },
    {
     "name": "stderr",
     "output_type": "stream",
     "text": [
      "/var/folders/w6/q5_zm221051fpvtg0kr3dy480000gn/T/ipykernel_53544/1309178710.py:82: SettingWithCopyWarning: \n",
      "A value is trying to be set on a copy of a slice from a DataFrame.\n",
      "Try using .loc[row_indexer,col_indexer] = value instead\n",
      "\n",
      "See the caveats in the documentation: https://pandas.pydata.org/pandas-docs/stable/user_guide/indexing.html#returning-a-view-versus-a-copy\n",
      "  fittedframe_future[deps[0]+'_pred'] = res[:,1]\n",
      "/var/folders/w6/q5_zm221051fpvtg0kr3dy480000gn/T/ipykernel_53544/1309178710.py:83: SettingWithCopyWarning: \n",
      "A value is trying to be set on a copy of a slice from a DataFrame.\n",
      "Try using .loc[row_indexer,col_indexer] = value instead\n",
      "\n",
      "See the caveats in the documentation: https://pandas.pydata.org/pandas-docs/stable/user_guide/indexing.html#returning-a-view-versus-a-copy\n",
      "  fittedframe_future[deps[0]+'_pred_label'] = pred_label\n"
     ]
    },
    {
     "name": "stdout",
     "output_type": "stream",
     "text": [
      "2017 1\n"
     ]
    },
    {
     "name": "stderr",
     "output_type": "stream",
     "text": [
      "/var/folders/w6/q5_zm221051fpvtg0kr3dy480000gn/T/ipykernel_53544/1309178710.py:82: SettingWithCopyWarning: \n",
      "A value is trying to be set on a copy of a slice from a DataFrame.\n",
      "Try using .loc[row_indexer,col_indexer] = value instead\n",
      "\n",
      "See the caveats in the documentation: https://pandas.pydata.org/pandas-docs/stable/user_guide/indexing.html#returning-a-view-versus-a-copy\n",
      "  fittedframe_future[deps[0]+'_pred'] = res[:,1]\n",
      "/var/folders/w6/q5_zm221051fpvtg0kr3dy480000gn/T/ipykernel_53544/1309178710.py:83: SettingWithCopyWarning: \n",
      "A value is trying to be set on a copy of a slice from a DataFrame.\n",
      "Try using .loc[row_indexer,col_indexer] = value instead\n",
      "\n",
      "See the caveats in the documentation: https://pandas.pydata.org/pandas-docs/stable/user_guide/indexing.html#returning-a-view-versus-a-copy\n",
      "  fittedframe_future[deps[0]+'_pred_label'] = pred_label\n"
     ]
    },
    {
     "name": "stdout",
     "output_type": "stream",
     "text": [
      "2017 2\n"
     ]
    },
    {
     "name": "stderr",
     "output_type": "stream",
     "text": [
      "/var/folders/w6/q5_zm221051fpvtg0kr3dy480000gn/T/ipykernel_53544/1309178710.py:82: SettingWithCopyWarning: \n",
      "A value is trying to be set on a copy of a slice from a DataFrame.\n",
      "Try using .loc[row_indexer,col_indexer] = value instead\n",
      "\n",
      "See the caveats in the documentation: https://pandas.pydata.org/pandas-docs/stable/user_guide/indexing.html#returning-a-view-versus-a-copy\n",
      "  fittedframe_future[deps[0]+'_pred'] = res[:,1]\n",
      "/var/folders/w6/q5_zm221051fpvtg0kr3dy480000gn/T/ipykernel_53544/1309178710.py:83: SettingWithCopyWarning: \n",
      "A value is trying to be set on a copy of a slice from a DataFrame.\n",
      "Try using .loc[row_indexer,col_indexer] = value instead\n",
      "\n",
      "See the caveats in the documentation: https://pandas.pydata.org/pandas-docs/stable/user_guide/indexing.html#returning-a-view-versus-a-copy\n",
      "  fittedframe_future[deps[0]+'_pred_label'] = pred_label\n"
     ]
    },
    {
     "name": "stdout",
     "output_type": "stream",
     "text": [
      "2017 3\n"
     ]
    },
    {
     "name": "stderr",
     "output_type": "stream",
     "text": [
      "/var/folders/w6/q5_zm221051fpvtg0kr3dy480000gn/T/ipykernel_53544/1309178710.py:82: SettingWithCopyWarning: \n",
      "A value is trying to be set on a copy of a slice from a DataFrame.\n",
      "Try using .loc[row_indexer,col_indexer] = value instead\n",
      "\n",
      "See the caveats in the documentation: https://pandas.pydata.org/pandas-docs/stable/user_guide/indexing.html#returning-a-view-versus-a-copy\n",
      "  fittedframe_future[deps[0]+'_pred'] = res[:,1]\n",
      "/var/folders/w6/q5_zm221051fpvtg0kr3dy480000gn/T/ipykernel_53544/1309178710.py:83: SettingWithCopyWarning: \n",
      "A value is trying to be set on a copy of a slice from a DataFrame.\n",
      "Try using .loc[row_indexer,col_indexer] = value instead\n",
      "\n",
      "See the caveats in the documentation: https://pandas.pydata.org/pandas-docs/stable/user_guide/indexing.html#returning-a-view-versus-a-copy\n",
      "  fittedframe_future[deps[0]+'_pred_label'] = pred_label\n"
     ]
    },
    {
     "name": "stdout",
     "output_type": "stream",
     "text": [
      "2017 4\n"
     ]
    },
    {
     "name": "stderr",
     "output_type": "stream",
     "text": [
      "/var/folders/w6/q5_zm221051fpvtg0kr3dy480000gn/T/ipykernel_53544/1309178710.py:82: SettingWithCopyWarning: \n",
      "A value is trying to be set on a copy of a slice from a DataFrame.\n",
      "Try using .loc[row_indexer,col_indexer] = value instead\n",
      "\n",
      "See the caveats in the documentation: https://pandas.pydata.org/pandas-docs/stable/user_guide/indexing.html#returning-a-view-versus-a-copy\n",
      "  fittedframe_future[deps[0]+'_pred'] = res[:,1]\n",
      "/var/folders/w6/q5_zm221051fpvtg0kr3dy480000gn/T/ipykernel_53544/1309178710.py:83: SettingWithCopyWarning: \n",
      "A value is trying to be set on a copy of a slice from a DataFrame.\n",
      "Try using .loc[row_indexer,col_indexer] = value instead\n",
      "\n",
      "See the caveats in the documentation: https://pandas.pydata.org/pandas-docs/stable/user_guide/indexing.html#returning-a-view-versus-a-copy\n",
      "  fittedframe_future[deps[0]+'_pred_label'] = pred_label\n"
     ]
    },
    {
     "name": "stdout",
     "output_type": "stream",
     "text": [
      "2017 5\n"
     ]
    },
    {
     "name": "stderr",
     "output_type": "stream",
     "text": [
      "/var/folders/w6/q5_zm221051fpvtg0kr3dy480000gn/T/ipykernel_53544/1309178710.py:82: SettingWithCopyWarning: \n",
      "A value is trying to be set on a copy of a slice from a DataFrame.\n",
      "Try using .loc[row_indexer,col_indexer] = value instead\n",
      "\n",
      "See the caveats in the documentation: https://pandas.pydata.org/pandas-docs/stable/user_guide/indexing.html#returning-a-view-versus-a-copy\n",
      "  fittedframe_future[deps[0]+'_pred'] = res[:,1]\n",
      "/var/folders/w6/q5_zm221051fpvtg0kr3dy480000gn/T/ipykernel_53544/1309178710.py:83: SettingWithCopyWarning: \n",
      "A value is trying to be set on a copy of a slice from a DataFrame.\n",
      "Try using .loc[row_indexer,col_indexer] = value instead\n",
      "\n",
      "See the caveats in the documentation: https://pandas.pydata.org/pandas-docs/stable/user_guide/indexing.html#returning-a-view-versus-a-copy\n",
      "  fittedframe_future[deps[0]+'_pred_label'] = pred_label\n"
     ]
    },
    {
     "name": "stdout",
     "output_type": "stream",
     "text": [
      "2017 6\n"
     ]
    },
    {
     "name": "stderr",
     "output_type": "stream",
     "text": [
      "/var/folders/w6/q5_zm221051fpvtg0kr3dy480000gn/T/ipykernel_53544/1309178710.py:82: SettingWithCopyWarning: \n",
      "A value is trying to be set on a copy of a slice from a DataFrame.\n",
      "Try using .loc[row_indexer,col_indexer] = value instead\n",
      "\n",
      "See the caveats in the documentation: https://pandas.pydata.org/pandas-docs/stable/user_guide/indexing.html#returning-a-view-versus-a-copy\n",
      "  fittedframe_future[deps[0]+'_pred'] = res[:,1]\n",
      "/var/folders/w6/q5_zm221051fpvtg0kr3dy480000gn/T/ipykernel_53544/1309178710.py:83: SettingWithCopyWarning: \n",
      "A value is trying to be set on a copy of a slice from a DataFrame.\n",
      "Try using .loc[row_indexer,col_indexer] = value instead\n",
      "\n",
      "See the caveats in the documentation: https://pandas.pydata.org/pandas-docs/stable/user_guide/indexing.html#returning-a-view-versus-a-copy\n",
      "  fittedframe_future[deps[0]+'_pred_label'] = pred_label\n"
     ]
    },
    {
     "name": "stdout",
     "output_type": "stream",
     "text": [
      "2017 7\n"
     ]
    },
    {
     "name": "stderr",
     "output_type": "stream",
     "text": [
      "/var/folders/w6/q5_zm221051fpvtg0kr3dy480000gn/T/ipykernel_53544/1309178710.py:82: SettingWithCopyWarning: \n",
      "A value is trying to be set on a copy of a slice from a DataFrame.\n",
      "Try using .loc[row_indexer,col_indexer] = value instead\n",
      "\n",
      "See the caveats in the documentation: https://pandas.pydata.org/pandas-docs/stable/user_guide/indexing.html#returning-a-view-versus-a-copy\n",
      "  fittedframe_future[deps[0]+'_pred'] = res[:,1]\n",
      "/var/folders/w6/q5_zm221051fpvtg0kr3dy480000gn/T/ipykernel_53544/1309178710.py:83: SettingWithCopyWarning: \n",
      "A value is trying to be set on a copy of a slice from a DataFrame.\n",
      "Try using .loc[row_indexer,col_indexer] = value instead\n",
      "\n",
      "See the caveats in the documentation: https://pandas.pydata.org/pandas-docs/stable/user_guide/indexing.html#returning-a-view-versus-a-copy\n",
      "  fittedframe_future[deps[0]+'_pred_label'] = pred_label\n"
     ]
    },
    {
     "name": "stdout",
     "output_type": "stream",
     "text": [
      "2017 8\n"
     ]
    },
    {
     "name": "stderr",
     "output_type": "stream",
     "text": [
      "/var/folders/w6/q5_zm221051fpvtg0kr3dy480000gn/T/ipykernel_53544/1309178710.py:82: SettingWithCopyWarning: \n",
      "A value is trying to be set on a copy of a slice from a DataFrame.\n",
      "Try using .loc[row_indexer,col_indexer] = value instead\n",
      "\n",
      "See the caveats in the documentation: https://pandas.pydata.org/pandas-docs/stable/user_guide/indexing.html#returning-a-view-versus-a-copy\n",
      "  fittedframe_future[deps[0]+'_pred'] = res[:,1]\n",
      "/var/folders/w6/q5_zm221051fpvtg0kr3dy480000gn/T/ipykernel_53544/1309178710.py:83: SettingWithCopyWarning: \n",
      "A value is trying to be set on a copy of a slice from a DataFrame.\n",
      "Try using .loc[row_indexer,col_indexer] = value instead\n",
      "\n",
      "See the caveats in the documentation: https://pandas.pydata.org/pandas-docs/stable/user_guide/indexing.html#returning-a-view-versus-a-copy\n",
      "  fittedframe_future[deps[0]+'_pred_label'] = pred_label\n"
     ]
    },
    {
     "name": "stdout",
     "output_type": "stream",
     "text": [
      "2017 9\n"
     ]
    },
    {
     "name": "stderr",
     "output_type": "stream",
     "text": [
      "/var/folders/w6/q5_zm221051fpvtg0kr3dy480000gn/T/ipykernel_53544/1309178710.py:82: SettingWithCopyWarning: \n",
      "A value is trying to be set on a copy of a slice from a DataFrame.\n",
      "Try using .loc[row_indexer,col_indexer] = value instead\n",
      "\n",
      "See the caveats in the documentation: https://pandas.pydata.org/pandas-docs/stable/user_guide/indexing.html#returning-a-view-versus-a-copy\n",
      "  fittedframe_future[deps[0]+'_pred'] = res[:,1]\n",
      "/var/folders/w6/q5_zm221051fpvtg0kr3dy480000gn/T/ipykernel_53544/1309178710.py:83: SettingWithCopyWarning: \n",
      "A value is trying to be set on a copy of a slice from a DataFrame.\n",
      "Try using .loc[row_indexer,col_indexer] = value instead\n",
      "\n",
      "See the caveats in the documentation: https://pandas.pydata.org/pandas-docs/stable/user_guide/indexing.html#returning-a-view-versus-a-copy\n",
      "  fittedframe_future[deps[0]+'_pred_label'] = pred_label\n"
     ]
    },
    {
     "name": "stdout",
     "output_type": "stream",
     "text": [
      "2017 10\n"
     ]
    },
    {
     "name": "stderr",
     "output_type": "stream",
     "text": [
      "/var/folders/w6/q5_zm221051fpvtg0kr3dy480000gn/T/ipykernel_53544/1309178710.py:82: SettingWithCopyWarning: \n",
      "A value is trying to be set on a copy of a slice from a DataFrame.\n",
      "Try using .loc[row_indexer,col_indexer] = value instead\n",
      "\n",
      "See the caveats in the documentation: https://pandas.pydata.org/pandas-docs/stable/user_guide/indexing.html#returning-a-view-versus-a-copy\n",
      "  fittedframe_future[deps[0]+'_pred'] = res[:,1]\n",
      "/var/folders/w6/q5_zm221051fpvtg0kr3dy480000gn/T/ipykernel_53544/1309178710.py:83: SettingWithCopyWarning: \n",
      "A value is trying to be set on a copy of a slice from a DataFrame.\n",
      "Try using .loc[row_indexer,col_indexer] = value instead\n",
      "\n",
      "See the caveats in the documentation: https://pandas.pydata.org/pandas-docs/stable/user_guide/indexing.html#returning-a-view-versus-a-copy\n",
      "  fittedframe_future[deps[0]+'_pred_label'] = pred_label\n"
     ]
    },
    {
     "name": "stdout",
     "output_type": "stream",
     "text": [
      "2017 11\n"
     ]
    },
    {
     "name": "stderr",
     "output_type": "stream",
     "text": [
      "/var/folders/w6/q5_zm221051fpvtg0kr3dy480000gn/T/ipykernel_53544/1309178710.py:82: SettingWithCopyWarning: \n",
      "A value is trying to be set on a copy of a slice from a DataFrame.\n",
      "Try using .loc[row_indexer,col_indexer] = value instead\n",
      "\n",
      "See the caveats in the documentation: https://pandas.pydata.org/pandas-docs/stable/user_guide/indexing.html#returning-a-view-versus-a-copy\n",
      "  fittedframe_future[deps[0]+'_pred'] = res[:,1]\n",
      "/var/folders/w6/q5_zm221051fpvtg0kr3dy480000gn/T/ipykernel_53544/1309178710.py:83: SettingWithCopyWarning: \n",
      "A value is trying to be set on a copy of a slice from a DataFrame.\n",
      "Try using .loc[row_indexer,col_indexer] = value instead\n",
      "\n",
      "See the caveats in the documentation: https://pandas.pydata.org/pandas-docs/stable/user_guide/indexing.html#returning-a-view-versus-a-copy\n",
      "  fittedframe_future[deps[0]+'_pred_label'] = pred_label\n"
     ]
    },
    {
     "name": "stdout",
     "output_type": "stream",
     "text": [
      "2017 12\n"
     ]
    },
    {
     "name": "stderr",
     "output_type": "stream",
     "text": [
      "/var/folders/w6/q5_zm221051fpvtg0kr3dy480000gn/T/ipykernel_53544/1309178710.py:82: SettingWithCopyWarning: \n",
      "A value is trying to be set on a copy of a slice from a DataFrame.\n",
      "Try using .loc[row_indexer,col_indexer] = value instead\n",
      "\n",
      "See the caveats in the documentation: https://pandas.pydata.org/pandas-docs/stable/user_guide/indexing.html#returning-a-view-versus-a-copy\n",
      "  fittedframe_future[deps[0]+'_pred'] = res[:,1]\n",
      "/var/folders/w6/q5_zm221051fpvtg0kr3dy480000gn/T/ipykernel_53544/1309178710.py:83: SettingWithCopyWarning: \n",
      "A value is trying to be set on a copy of a slice from a DataFrame.\n",
      "Try using .loc[row_indexer,col_indexer] = value instead\n",
      "\n",
      "See the caveats in the documentation: https://pandas.pydata.org/pandas-docs/stable/user_guide/indexing.html#returning-a-view-versus-a-copy\n",
      "  fittedframe_future[deps[0]+'_pred_label'] = pred_label\n"
     ]
    },
    {
     "name": "stdout",
     "output_type": "stream",
     "text": [
      "2018 1\n"
     ]
    },
    {
     "name": "stderr",
     "output_type": "stream",
     "text": [
      "/var/folders/w6/q5_zm221051fpvtg0kr3dy480000gn/T/ipykernel_53544/1309178710.py:82: SettingWithCopyWarning: \n",
      "A value is trying to be set on a copy of a slice from a DataFrame.\n",
      "Try using .loc[row_indexer,col_indexer] = value instead\n",
      "\n",
      "See the caveats in the documentation: https://pandas.pydata.org/pandas-docs/stable/user_guide/indexing.html#returning-a-view-versus-a-copy\n",
      "  fittedframe_future[deps[0]+'_pred'] = res[:,1]\n",
      "/var/folders/w6/q5_zm221051fpvtg0kr3dy480000gn/T/ipykernel_53544/1309178710.py:83: SettingWithCopyWarning: \n",
      "A value is trying to be set on a copy of a slice from a DataFrame.\n",
      "Try using .loc[row_indexer,col_indexer] = value instead\n",
      "\n",
      "See the caveats in the documentation: https://pandas.pydata.org/pandas-docs/stable/user_guide/indexing.html#returning-a-view-versus-a-copy\n",
      "  fittedframe_future[deps[0]+'_pred_label'] = pred_label\n"
     ]
    },
    {
     "name": "stdout",
     "output_type": "stream",
     "text": [
      "2018 2\n"
     ]
    },
    {
     "name": "stderr",
     "output_type": "stream",
     "text": [
      "/var/folders/w6/q5_zm221051fpvtg0kr3dy480000gn/T/ipykernel_53544/1309178710.py:82: SettingWithCopyWarning: \n",
      "A value is trying to be set on a copy of a slice from a DataFrame.\n",
      "Try using .loc[row_indexer,col_indexer] = value instead\n",
      "\n",
      "See the caveats in the documentation: https://pandas.pydata.org/pandas-docs/stable/user_guide/indexing.html#returning-a-view-versus-a-copy\n",
      "  fittedframe_future[deps[0]+'_pred'] = res[:,1]\n",
      "/var/folders/w6/q5_zm221051fpvtg0kr3dy480000gn/T/ipykernel_53544/1309178710.py:83: SettingWithCopyWarning: \n",
      "A value is trying to be set on a copy of a slice from a DataFrame.\n",
      "Try using .loc[row_indexer,col_indexer] = value instead\n",
      "\n",
      "See the caveats in the documentation: https://pandas.pydata.org/pandas-docs/stable/user_guide/indexing.html#returning-a-view-versus-a-copy\n",
      "  fittedframe_future[deps[0]+'_pred_label'] = pred_label\n"
     ]
    },
    {
     "name": "stdout",
     "output_type": "stream",
     "text": [
      "2018 3\n"
     ]
    },
    {
     "name": "stderr",
     "output_type": "stream",
     "text": [
      "/var/folders/w6/q5_zm221051fpvtg0kr3dy480000gn/T/ipykernel_53544/1309178710.py:82: SettingWithCopyWarning: \n",
      "A value is trying to be set on a copy of a slice from a DataFrame.\n",
      "Try using .loc[row_indexer,col_indexer] = value instead\n",
      "\n",
      "See the caveats in the documentation: https://pandas.pydata.org/pandas-docs/stable/user_guide/indexing.html#returning-a-view-versus-a-copy\n",
      "  fittedframe_future[deps[0]+'_pred'] = res[:,1]\n",
      "/var/folders/w6/q5_zm221051fpvtg0kr3dy480000gn/T/ipykernel_53544/1309178710.py:83: SettingWithCopyWarning: \n",
      "A value is trying to be set on a copy of a slice from a DataFrame.\n",
      "Try using .loc[row_indexer,col_indexer] = value instead\n",
      "\n",
      "See the caveats in the documentation: https://pandas.pydata.org/pandas-docs/stable/user_guide/indexing.html#returning-a-view-versus-a-copy\n",
      "  fittedframe_future[deps[0]+'_pred_label'] = pred_label\n"
     ]
    },
    {
     "name": "stdout",
     "output_type": "stream",
     "text": [
      "2018 4\n"
     ]
    },
    {
     "name": "stderr",
     "output_type": "stream",
     "text": [
      "/var/folders/w6/q5_zm221051fpvtg0kr3dy480000gn/T/ipykernel_53544/1309178710.py:82: SettingWithCopyWarning: \n",
      "A value is trying to be set on a copy of a slice from a DataFrame.\n",
      "Try using .loc[row_indexer,col_indexer] = value instead\n",
      "\n",
      "See the caveats in the documentation: https://pandas.pydata.org/pandas-docs/stable/user_guide/indexing.html#returning-a-view-versus-a-copy\n",
      "  fittedframe_future[deps[0]+'_pred'] = res[:,1]\n",
      "/var/folders/w6/q5_zm221051fpvtg0kr3dy480000gn/T/ipykernel_53544/1309178710.py:83: SettingWithCopyWarning: \n",
      "A value is trying to be set on a copy of a slice from a DataFrame.\n",
      "Try using .loc[row_indexer,col_indexer] = value instead\n",
      "\n",
      "See the caveats in the documentation: https://pandas.pydata.org/pandas-docs/stable/user_guide/indexing.html#returning-a-view-versus-a-copy\n",
      "  fittedframe_future[deps[0]+'_pred_label'] = pred_label\n"
     ]
    },
    {
     "name": "stdout",
     "output_type": "stream",
     "text": [
      "2018 5\n"
     ]
    },
    {
     "name": "stderr",
     "output_type": "stream",
     "text": [
      "/var/folders/w6/q5_zm221051fpvtg0kr3dy480000gn/T/ipykernel_53544/1309178710.py:82: SettingWithCopyWarning: \n",
      "A value is trying to be set on a copy of a slice from a DataFrame.\n",
      "Try using .loc[row_indexer,col_indexer] = value instead\n",
      "\n",
      "See the caveats in the documentation: https://pandas.pydata.org/pandas-docs/stable/user_guide/indexing.html#returning-a-view-versus-a-copy\n",
      "  fittedframe_future[deps[0]+'_pred'] = res[:,1]\n",
      "/var/folders/w6/q5_zm221051fpvtg0kr3dy480000gn/T/ipykernel_53544/1309178710.py:83: SettingWithCopyWarning: \n",
      "A value is trying to be set on a copy of a slice from a DataFrame.\n",
      "Try using .loc[row_indexer,col_indexer] = value instead\n",
      "\n",
      "See the caveats in the documentation: https://pandas.pydata.org/pandas-docs/stable/user_guide/indexing.html#returning-a-view-versus-a-copy\n",
      "  fittedframe_future[deps[0]+'_pred_label'] = pred_label\n"
     ]
    },
    {
     "name": "stdout",
     "output_type": "stream",
     "text": [
      "2018 6\n"
     ]
    },
    {
     "name": "stderr",
     "output_type": "stream",
     "text": [
      "/var/folders/w6/q5_zm221051fpvtg0kr3dy480000gn/T/ipykernel_53544/1309178710.py:82: SettingWithCopyWarning: \n",
      "A value is trying to be set on a copy of a slice from a DataFrame.\n",
      "Try using .loc[row_indexer,col_indexer] = value instead\n",
      "\n",
      "See the caveats in the documentation: https://pandas.pydata.org/pandas-docs/stable/user_guide/indexing.html#returning-a-view-versus-a-copy\n",
      "  fittedframe_future[deps[0]+'_pred'] = res[:,1]\n",
      "/var/folders/w6/q5_zm221051fpvtg0kr3dy480000gn/T/ipykernel_53544/1309178710.py:83: SettingWithCopyWarning: \n",
      "A value is trying to be set on a copy of a slice from a DataFrame.\n",
      "Try using .loc[row_indexer,col_indexer] = value instead\n",
      "\n",
      "See the caveats in the documentation: https://pandas.pydata.org/pandas-docs/stable/user_guide/indexing.html#returning-a-view-versus-a-copy\n",
      "  fittedframe_future[deps[0]+'_pred_label'] = pred_label\n"
     ]
    },
    {
     "name": "stdout",
     "output_type": "stream",
     "text": [
      "2018 7\n"
     ]
    },
    {
     "name": "stderr",
     "output_type": "stream",
     "text": [
      "/var/folders/w6/q5_zm221051fpvtg0kr3dy480000gn/T/ipykernel_53544/1309178710.py:82: SettingWithCopyWarning: \n",
      "A value is trying to be set on a copy of a slice from a DataFrame.\n",
      "Try using .loc[row_indexer,col_indexer] = value instead\n",
      "\n",
      "See the caveats in the documentation: https://pandas.pydata.org/pandas-docs/stable/user_guide/indexing.html#returning-a-view-versus-a-copy\n",
      "  fittedframe_future[deps[0]+'_pred'] = res[:,1]\n",
      "/var/folders/w6/q5_zm221051fpvtg0kr3dy480000gn/T/ipykernel_53544/1309178710.py:83: SettingWithCopyWarning: \n",
      "A value is trying to be set on a copy of a slice from a DataFrame.\n",
      "Try using .loc[row_indexer,col_indexer] = value instead\n",
      "\n",
      "See the caveats in the documentation: https://pandas.pydata.org/pandas-docs/stable/user_guide/indexing.html#returning-a-view-versus-a-copy\n",
      "  fittedframe_future[deps[0]+'_pred_label'] = pred_label\n"
     ]
    },
    {
     "name": "stdout",
     "output_type": "stream",
     "text": [
      "2018 8\n"
     ]
    },
    {
     "name": "stderr",
     "output_type": "stream",
     "text": [
      "/var/folders/w6/q5_zm221051fpvtg0kr3dy480000gn/T/ipykernel_53544/1309178710.py:82: SettingWithCopyWarning: \n",
      "A value is trying to be set on a copy of a slice from a DataFrame.\n",
      "Try using .loc[row_indexer,col_indexer] = value instead\n",
      "\n",
      "See the caveats in the documentation: https://pandas.pydata.org/pandas-docs/stable/user_guide/indexing.html#returning-a-view-versus-a-copy\n",
      "  fittedframe_future[deps[0]+'_pred'] = res[:,1]\n",
      "/var/folders/w6/q5_zm221051fpvtg0kr3dy480000gn/T/ipykernel_53544/1309178710.py:83: SettingWithCopyWarning: \n",
      "A value is trying to be set on a copy of a slice from a DataFrame.\n",
      "Try using .loc[row_indexer,col_indexer] = value instead\n",
      "\n",
      "See the caveats in the documentation: https://pandas.pydata.org/pandas-docs/stable/user_guide/indexing.html#returning-a-view-versus-a-copy\n",
      "  fittedframe_future[deps[0]+'_pred_label'] = pred_label\n"
     ]
    },
    {
     "name": "stdout",
     "output_type": "stream",
     "text": [
      "2018 9\n"
     ]
    },
    {
     "name": "stderr",
     "output_type": "stream",
     "text": [
      "/var/folders/w6/q5_zm221051fpvtg0kr3dy480000gn/T/ipykernel_53544/1309178710.py:82: SettingWithCopyWarning: \n",
      "A value is trying to be set on a copy of a slice from a DataFrame.\n",
      "Try using .loc[row_indexer,col_indexer] = value instead\n",
      "\n",
      "See the caveats in the documentation: https://pandas.pydata.org/pandas-docs/stable/user_guide/indexing.html#returning-a-view-versus-a-copy\n",
      "  fittedframe_future[deps[0]+'_pred'] = res[:,1]\n",
      "/var/folders/w6/q5_zm221051fpvtg0kr3dy480000gn/T/ipykernel_53544/1309178710.py:83: SettingWithCopyWarning: \n",
      "A value is trying to be set on a copy of a slice from a DataFrame.\n",
      "Try using .loc[row_indexer,col_indexer] = value instead\n",
      "\n",
      "See the caveats in the documentation: https://pandas.pydata.org/pandas-docs/stable/user_guide/indexing.html#returning-a-view-versus-a-copy\n",
      "  fittedframe_future[deps[0]+'_pred_label'] = pred_label\n"
     ]
    },
    {
     "name": "stdout",
     "output_type": "stream",
     "text": [
      "2018 10\n"
     ]
    },
    {
     "name": "stderr",
     "output_type": "stream",
     "text": [
      "/var/folders/w6/q5_zm221051fpvtg0kr3dy480000gn/T/ipykernel_53544/1309178710.py:82: SettingWithCopyWarning: \n",
      "A value is trying to be set on a copy of a slice from a DataFrame.\n",
      "Try using .loc[row_indexer,col_indexer] = value instead\n",
      "\n",
      "See the caveats in the documentation: https://pandas.pydata.org/pandas-docs/stable/user_guide/indexing.html#returning-a-view-versus-a-copy\n",
      "  fittedframe_future[deps[0]+'_pred'] = res[:,1]\n",
      "/var/folders/w6/q5_zm221051fpvtg0kr3dy480000gn/T/ipykernel_53544/1309178710.py:83: SettingWithCopyWarning: \n",
      "A value is trying to be set on a copy of a slice from a DataFrame.\n",
      "Try using .loc[row_indexer,col_indexer] = value instead\n",
      "\n",
      "See the caveats in the documentation: https://pandas.pydata.org/pandas-docs/stable/user_guide/indexing.html#returning-a-view-versus-a-copy\n",
      "  fittedframe_future[deps[0]+'_pred_label'] = pred_label\n"
     ]
    },
    {
     "name": "stdout",
     "output_type": "stream",
     "text": [
      "2018 11\n"
     ]
    },
    {
     "name": "stderr",
     "output_type": "stream",
     "text": [
      "/var/folders/w6/q5_zm221051fpvtg0kr3dy480000gn/T/ipykernel_53544/1309178710.py:82: SettingWithCopyWarning: \n",
      "A value is trying to be set on a copy of a slice from a DataFrame.\n",
      "Try using .loc[row_indexer,col_indexer] = value instead\n",
      "\n",
      "See the caveats in the documentation: https://pandas.pydata.org/pandas-docs/stable/user_guide/indexing.html#returning-a-view-versus-a-copy\n",
      "  fittedframe_future[deps[0]+'_pred'] = res[:,1]\n",
      "/var/folders/w6/q5_zm221051fpvtg0kr3dy480000gn/T/ipykernel_53544/1309178710.py:83: SettingWithCopyWarning: \n",
      "A value is trying to be set on a copy of a slice from a DataFrame.\n",
      "Try using .loc[row_indexer,col_indexer] = value instead\n",
      "\n",
      "See the caveats in the documentation: https://pandas.pydata.org/pandas-docs/stable/user_guide/indexing.html#returning-a-view-versus-a-copy\n",
      "  fittedframe_future[deps[0]+'_pred_label'] = pred_label\n"
     ]
    },
    {
     "name": "stdout",
     "output_type": "stream",
     "text": [
      "2018 12\n"
     ]
    },
    {
     "name": "stderr",
     "output_type": "stream",
     "text": [
      "/var/folders/w6/q5_zm221051fpvtg0kr3dy480000gn/T/ipykernel_53544/1309178710.py:82: SettingWithCopyWarning: \n",
      "A value is trying to be set on a copy of a slice from a DataFrame.\n",
      "Try using .loc[row_indexer,col_indexer] = value instead\n",
      "\n",
      "See the caveats in the documentation: https://pandas.pydata.org/pandas-docs/stable/user_guide/indexing.html#returning-a-view-versus-a-copy\n",
      "  fittedframe_future[deps[0]+'_pred'] = res[:,1]\n",
      "/var/folders/w6/q5_zm221051fpvtg0kr3dy480000gn/T/ipykernel_53544/1309178710.py:83: SettingWithCopyWarning: \n",
      "A value is trying to be set on a copy of a slice from a DataFrame.\n",
      "Try using .loc[row_indexer,col_indexer] = value instead\n",
      "\n",
      "See the caveats in the documentation: https://pandas.pydata.org/pandas-docs/stable/user_guide/indexing.html#returning-a-view-versus-a-copy\n",
      "  fittedframe_future[deps[0]+'_pred_label'] = pred_label\n"
     ]
    },
    {
     "name": "stdout",
     "output_type": "stream",
     "text": [
      "2019 1\n"
     ]
    },
    {
     "name": "stderr",
     "output_type": "stream",
     "text": [
      "/var/folders/w6/q5_zm221051fpvtg0kr3dy480000gn/T/ipykernel_53544/1309178710.py:82: SettingWithCopyWarning: \n",
      "A value is trying to be set on a copy of a slice from a DataFrame.\n",
      "Try using .loc[row_indexer,col_indexer] = value instead\n",
      "\n",
      "See the caveats in the documentation: https://pandas.pydata.org/pandas-docs/stable/user_guide/indexing.html#returning-a-view-versus-a-copy\n",
      "  fittedframe_future[deps[0]+'_pred'] = res[:,1]\n",
      "/var/folders/w6/q5_zm221051fpvtg0kr3dy480000gn/T/ipykernel_53544/1309178710.py:83: SettingWithCopyWarning: \n",
      "A value is trying to be set on a copy of a slice from a DataFrame.\n",
      "Try using .loc[row_indexer,col_indexer] = value instead\n",
      "\n",
      "See the caveats in the documentation: https://pandas.pydata.org/pandas-docs/stable/user_guide/indexing.html#returning-a-view-versus-a-copy\n",
      "  fittedframe_future[deps[0]+'_pred_label'] = pred_label\n"
     ]
    },
    {
     "name": "stdout",
     "output_type": "stream",
     "text": [
      "2019 2\n"
     ]
    },
    {
     "name": "stderr",
     "output_type": "stream",
     "text": [
      "/var/folders/w6/q5_zm221051fpvtg0kr3dy480000gn/T/ipykernel_53544/1309178710.py:82: SettingWithCopyWarning: \n",
      "A value is trying to be set on a copy of a slice from a DataFrame.\n",
      "Try using .loc[row_indexer,col_indexer] = value instead\n",
      "\n",
      "See the caveats in the documentation: https://pandas.pydata.org/pandas-docs/stable/user_guide/indexing.html#returning-a-view-versus-a-copy\n",
      "  fittedframe_future[deps[0]+'_pred'] = res[:,1]\n",
      "/var/folders/w6/q5_zm221051fpvtg0kr3dy480000gn/T/ipykernel_53544/1309178710.py:83: SettingWithCopyWarning: \n",
      "A value is trying to be set on a copy of a slice from a DataFrame.\n",
      "Try using .loc[row_indexer,col_indexer] = value instead\n",
      "\n",
      "See the caveats in the documentation: https://pandas.pydata.org/pandas-docs/stable/user_guide/indexing.html#returning-a-view-versus-a-copy\n",
      "  fittedframe_future[deps[0]+'_pred_label'] = pred_label\n"
     ]
    },
    {
     "name": "stdout",
     "output_type": "stream",
     "text": [
      "2019 3\n"
     ]
    },
    {
     "name": "stderr",
     "output_type": "stream",
     "text": [
      "/var/folders/w6/q5_zm221051fpvtg0kr3dy480000gn/T/ipykernel_53544/1309178710.py:82: SettingWithCopyWarning: \n",
      "A value is trying to be set on a copy of a slice from a DataFrame.\n",
      "Try using .loc[row_indexer,col_indexer] = value instead\n",
      "\n",
      "See the caveats in the documentation: https://pandas.pydata.org/pandas-docs/stable/user_guide/indexing.html#returning-a-view-versus-a-copy\n",
      "  fittedframe_future[deps[0]+'_pred'] = res[:,1]\n",
      "/var/folders/w6/q5_zm221051fpvtg0kr3dy480000gn/T/ipykernel_53544/1309178710.py:83: SettingWithCopyWarning: \n",
      "A value is trying to be set on a copy of a slice from a DataFrame.\n",
      "Try using .loc[row_indexer,col_indexer] = value instead\n",
      "\n",
      "See the caveats in the documentation: https://pandas.pydata.org/pandas-docs/stable/user_guide/indexing.html#returning-a-view-versus-a-copy\n",
      "  fittedframe_future[deps[0]+'_pred_label'] = pred_label\n"
     ]
    },
    {
     "name": "stdout",
     "output_type": "stream",
     "text": [
      "2019 4\n"
     ]
    },
    {
     "name": "stderr",
     "output_type": "stream",
     "text": [
      "/var/folders/w6/q5_zm221051fpvtg0kr3dy480000gn/T/ipykernel_53544/1309178710.py:82: SettingWithCopyWarning: \n",
      "A value is trying to be set on a copy of a slice from a DataFrame.\n",
      "Try using .loc[row_indexer,col_indexer] = value instead\n",
      "\n",
      "See the caveats in the documentation: https://pandas.pydata.org/pandas-docs/stable/user_guide/indexing.html#returning-a-view-versus-a-copy\n",
      "  fittedframe_future[deps[0]+'_pred'] = res[:,1]\n",
      "/var/folders/w6/q5_zm221051fpvtg0kr3dy480000gn/T/ipykernel_53544/1309178710.py:83: SettingWithCopyWarning: \n",
      "A value is trying to be set on a copy of a slice from a DataFrame.\n",
      "Try using .loc[row_indexer,col_indexer] = value instead\n",
      "\n",
      "See the caveats in the documentation: https://pandas.pydata.org/pandas-docs/stable/user_guide/indexing.html#returning-a-view-versus-a-copy\n",
      "  fittedframe_future[deps[0]+'_pred_label'] = pred_label\n"
     ]
    },
    {
     "name": "stdout",
     "output_type": "stream",
     "text": [
      "2019 5\n"
     ]
    },
    {
     "name": "stderr",
     "output_type": "stream",
     "text": [
      "/var/folders/w6/q5_zm221051fpvtg0kr3dy480000gn/T/ipykernel_53544/1309178710.py:82: SettingWithCopyWarning: \n",
      "A value is trying to be set on a copy of a slice from a DataFrame.\n",
      "Try using .loc[row_indexer,col_indexer] = value instead\n",
      "\n",
      "See the caveats in the documentation: https://pandas.pydata.org/pandas-docs/stable/user_guide/indexing.html#returning-a-view-versus-a-copy\n",
      "  fittedframe_future[deps[0]+'_pred'] = res[:,1]\n",
      "/var/folders/w6/q5_zm221051fpvtg0kr3dy480000gn/T/ipykernel_53544/1309178710.py:83: SettingWithCopyWarning: \n",
      "A value is trying to be set on a copy of a slice from a DataFrame.\n",
      "Try using .loc[row_indexer,col_indexer] = value instead\n",
      "\n",
      "See the caveats in the documentation: https://pandas.pydata.org/pandas-docs/stable/user_guide/indexing.html#returning-a-view-versus-a-copy\n",
      "  fittedframe_future[deps[0]+'_pred_label'] = pred_label\n"
     ]
    },
    {
     "name": "stdout",
     "output_type": "stream",
     "text": [
      "2019 6\n"
     ]
    },
    {
     "name": "stderr",
     "output_type": "stream",
     "text": [
      "/var/folders/w6/q5_zm221051fpvtg0kr3dy480000gn/T/ipykernel_53544/1309178710.py:82: SettingWithCopyWarning: \n",
      "A value is trying to be set on a copy of a slice from a DataFrame.\n",
      "Try using .loc[row_indexer,col_indexer] = value instead\n",
      "\n",
      "See the caveats in the documentation: https://pandas.pydata.org/pandas-docs/stable/user_guide/indexing.html#returning-a-view-versus-a-copy\n",
      "  fittedframe_future[deps[0]+'_pred'] = res[:,1]\n",
      "/var/folders/w6/q5_zm221051fpvtg0kr3dy480000gn/T/ipykernel_53544/1309178710.py:83: SettingWithCopyWarning: \n",
      "A value is trying to be set on a copy of a slice from a DataFrame.\n",
      "Try using .loc[row_indexer,col_indexer] = value instead\n",
      "\n",
      "See the caveats in the documentation: https://pandas.pydata.org/pandas-docs/stable/user_guide/indexing.html#returning-a-view-versus-a-copy\n",
      "  fittedframe_future[deps[0]+'_pred_label'] = pred_label\n"
     ]
    },
    {
     "name": "stdout",
     "output_type": "stream",
     "text": [
      "2019 7\n"
     ]
    },
    {
     "name": "stderr",
     "output_type": "stream",
     "text": [
      "/var/folders/w6/q5_zm221051fpvtg0kr3dy480000gn/T/ipykernel_53544/1309178710.py:82: SettingWithCopyWarning: \n",
      "A value is trying to be set on a copy of a slice from a DataFrame.\n",
      "Try using .loc[row_indexer,col_indexer] = value instead\n",
      "\n",
      "See the caveats in the documentation: https://pandas.pydata.org/pandas-docs/stable/user_guide/indexing.html#returning-a-view-versus-a-copy\n",
      "  fittedframe_future[deps[0]+'_pred'] = res[:,1]\n",
      "/var/folders/w6/q5_zm221051fpvtg0kr3dy480000gn/T/ipykernel_53544/1309178710.py:83: SettingWithCopyWarning: \n",
      "A value is trying to be set on a copy of a slice from a DataFrame.\n",
      "Try using .loc[row_indexer,col_indexer] = value instead\n",
      "\n",
      "See the caveats in the documentation: https://pandas.pydata.org/pandas-docs/stable/user_guide/indexing.html#returning-a-view-versus-a-copy\n",
      "  fittedframe_future[deps[0]+'_pred_label'] = pred_label\n"
     ]
    },
    {
     "name": "stdout",
     "output_type": "stream",
     "text": [
      "2019 8\n"
     ]
    },
    {
     "name": "stderr",
     "output_type": "stream",
     "text": [
      "/var/folders/w6/q5_zm221051fpvtg0kr3dy480000gn/T/ipykernel_53544/1309178710.py:82: SettingWithCopyWarning: \n",
      "A value is trying to be set on a copy of a slice from a DataFrame.\n",
      "Try using .loc[row_indexer,col_indexer] = value instead\n",
      "\n",
      "See the caveats in the documentation: https://pandas.pydata.org/pandas-docs/stable/user_guide/indexing.html#returning-a-view-versus-a-copy\n",
      "  fittedframe_future[deps[0]+'_pred'] = res[:,1]\n",
      "/var/folders/w6/q5_zm221051fpvtg0kr3dy480000gn/T/ipykernel_53544/1309178710.py:83: SettingWithCopyWarning: \n",
      "A value is trying to be set on a copy of a slice from a DataFrame.\n",
      "Try using .loc[row_indexer,col_indexer] = value instead\n",
      "\n",
      "See the caveats in the documentation: https://pandas.pydata.org/pandas-docs/stable/user_guide/indexing.html#returning-a-view-versus-a-copy\n",
      "  fittedframe_future[deps[0]+'_pred_label'] = pred_label\n"
     ]
    },
    {
     "name": "stdout",
     "output_type": "stream",
     "text": [
      "2019 9\n"
     ]
    },
    {
     "name": "stderr",
     "output_type": "stream",
     "text": [
      "/var/folders/w6/q5_zm221051fpvtg0kr3dy480000gn/T/ipykernel_53544/1309178710.py:82: SettingWithCopyWarning: \n",
      "A value is trying to be set on a copy of a slice from a DataFrame.\n",
      "Try using .loc[row_indexer,col_indexer] = value instead\n",
      "\n",
      "See the caveats in the documentation: https://pandas.pydata.org/pandas-docs/stable/user_guide/indexing.html#returning-a-view-versus-a-copy\n",
      "  fittedframe_future[deps[0]+'_pred'] = res[:,1]\n",
      "/var/folders/w6/q5_zm221051fpvtg0kr3dy480000gn/T/ipykernel_53544/1309178710.py:83: SettingWithCopyWarning: \n",
      "A value is trying to be set on a copy of a slice from a DataFrame.\n",
      "Try using .loc[row_indexer,col_indexer] = value instead\n",
      "\n",
      "See the caveats in the documentation: https://pandas.pydata.org/pandas-docs/stable/user_guide/indexing.html#returning-a-view-versus-a-copy\n",
      "  fittedframe_future[deps[0]+'_pred_label'] = pred_label\n"
     ]
    },
    {
     "name": "stdout",
     "output_type": "stream",
     "text": [
      "2019 10\n"
     ]
    },
    {
     "name": "stderr",
     "output_type": "stream",
     "text": [
      "/var/folders/w6/q5_zm221051fpvtg0kr3dy480000gn/T/ipykernel_53544/1309178710.py:82: SettingWithCopyWarning: \n",
      "A value is trying to be set on a copy of a slice from a DataFrame.\n",
      "Try using .loc[row_indexer,col_indexer] = value instead\n",
      "\n",
      "See the caveats in the documentation: https://pandas.pydata.org/pandas-docs/stable/user_guide/indexing.html#returning-a-view-versus-a-copy\n",
      "  fittedframe_future[deps[0]+'_pred'] = res[:,1]\n",
      "/var/folders/w6/q5_zm221051fpvtg0kr3dy480000gn/T/ipykernel_53544/1309178710.py:83: SettingWithCopyWarning: \n",
      "A value is trying to be set on a copy of a slice from a DataFrame.\n",
      "Try using .loc[row_indexer,col_indexer] = value instead\n",
      "\n",
      "See the caveats in the documentation: https://pandas.pydata.org/pandas-docs/stable/user_guide/indexing.html#returning-a-view-versus-a-copy\n",
      "  fittedframe_future[deps[0]+'_pred_label'] = pred_label\n"
     ]
    },
    {
     "name": "stdout",
     "output_type": "stream",
     "text": [
      "2019 11\n"
     ]
    },
    {
     "name": "stderr",
     "output_type": "stream",
     "text": [
      "/var/folders/w6/q5_zm221051fpvtg0kr3dy480000gn/T/ipykernel_53544/1309178710.py:82: SettingWithCopyWarning: \n",
      "A value is trying to be set on a copy of a slice from a DataFrame.\n",
      "Try using .loc[row_indexer,col_indexer] = value instead\n",
      "\n",
      "See the caveats in the documentation: https://pandas.pydata.org/pandas-docs/stable/user_guide/indexing.html#returning-a-view-versus-a-copy\n",
      "  fittedframe_future[deps[0]+'_pred'] = res[:,1]\n",
      "/var/folders/w6/q5_zm221051fpvtg0kr3dy480000gn/T/ipykernel_53544/1309178710.py:83: SettingWithCopyWarning: \n",
      "A value is trying to be set on a copy of a slice from a DataFrame.\n",
      "Try using .loc[row_indexer,col_indexer] = value instead\n",
      "\n",
      "See the caveats in the documentation: https://pandas.pydata.org/pandas-docs/stable/user_guide/indexing.html#returning-a-view-versus-a-copy\n",
      "  fittedframe_future[deps[0]+'_pred_label'] = pred_label\n"
     ]
    },
    {
     "name": "stdout",
     "output_type": "stream",
     "text": [
      "2019 12\n"
     ]
    },
    {
     "name": "stderr",
     "output_type": "stream",
     "text": [
      "/var/folders/w6/q5_zm221051fpvtg0kr3dy480000gn/T/ipykernel_53544/1309178710.py:82: SettingWithCopyWarning: \n",
      "A value is trying to be set on a copy of a slice from a DataFrame.\n",
      "Try using .loc[row_indexer,col_indexer] = value instead\n",
      "\n",
      "See the caveats in the documentation: https://pandas.pydata.org/pandas-docs/stable/user_guide/indexing.html#returning-a-view-versus-a-copy\n",
      "  fittedframe_future[deps[0]+'_pred'] = res[:,1]\n",
      "/var/folders/w6/q5_zm221051fpvtg0kr3dy480000gn/T/ipykernel_53544/1309178710.py:83: SettingWithCopyWarning: \n",
      "A value is trying to be set on a copy of a slice from a DataFrame.\n",
      "Try using .loc[row_indexer,col_indexer] = value instead\n",
      "\n",
      "See the caveats in the documentation: https://pandas.pydata.org/pandas-docs/stable/user_guide/indexing.html#returning-a-view-versus-a-copy\n",
      "  fittedframe_future[deps[0]+'_pred_label'] = pred_label\n"
     ]
    },
    {
     "name": "stdout",
     "output_type": "stream",
     "text": [
      "2020 1\n"
     ]
    },
    {
     "name": "stderr",
     "output_type": "stream",
     "text": [
      "/var/folders/w6/q5_zm221051fpvtg0kr3dy480000gn/T/ipykernel_53544/1309178710.py:82: SettingWithCopyWarning: \n",
      "A value is trying to be set on a copy of a slice from a DataFrame.\n",
      "Try using .loc[row_indexer,col_indexer] = value instead\n",
      "\n",
      "See the caveats in the documentation: https://pandas.pydata.org/pandas-docs/stable/user_guide/indexing.html#returning-a-view-versus-a-copy\n",
      "  fittedframe_future[deps[0]+'_pred'] = res[:,1]\n",
      "/var/folders/w6/q5_zm221051fpvtg0kr3dy480000gn/T/ipykernel_53544/1309178710.py:83: SettingWithCopyWarning: \n",
      "A value is trying to be set on a copy of a slice from a DataFrame.\n",
      "Try using .loc[row_indexer,col_indexer] = value instead\n",
      "\n",
      "See the caveats in the documentation: https://pandas.pydata.org/pandas-docs/stable/user_guide/indexing.html#returning-a-view-versus-a-copy\n",
      "  fittedframe_future[deps[0]+'_pred_label'] = pred_label\n"
     ]
    },
    {
     "name": "stdout",
     "output_type": "stream",
     "text": [
      "2020 2\n"
     ]
    },
    {
     "name": "stderr",
     "output_type": "stream",
     "text": [
      "/var/folders/w6/q5_zm221051fpvtg0kr3dy480000gn/T/ipykernel_53544/1309178710.py:82: SettingWithCopyWarning: \n",
      "A value is trying to be set on a copy of a slice from a DataFrame.\n",
      "Try using .loc[row_indexer,col_indexer] = value instead\n",
      "\n",
      "See the caveats in the documentation: https://pandas.pydata.org/pandas-docs/stable/user_guide/indexing.html#returning-a-view-versus-a-copy\n",
      "  fittedframe_future[deps[0]+'_pred'] = res[:,1]\n",
      "/var/folders/w6/q5_zm221051fpvtg0kr3dy480000gn/T/ipykernel_53544/1309178710.py:83: SettingWithCopyWarning: \n",
      "A value is trying to be set on a copy of a slice from a DataFrame.\n",
      "Try using .loc[row_indexer,col_indexer] = value instead\n",
      "\n",
      "See the caveats in the documentation: https://pandas.pydata.org/pandas-docs/stable/user_guide/indexing.html#returning-a-view-versus-a-copy\n",
      "  fittedframe_future[deps[0]+'_pred_label'] = pred_label\n"
     ]
    },
    {
     "name": "stdout",
     "output_type": "stream",
     "text": [
      "2020 3\n"
     ]
    },
    {
     "name": "stderr",
     "output_type": "stream",
     "text": [
      "/var/folders/w6/q5_zm221051fpvtg0kr3dy480000gn/T/ipykernel_53544/1309178710.py:82: SettingWithCopyWarning: \n",
      "A value is trying to be set on a copy of a slice from a DataFrame.\n",
      "Try using .loc[row_indexer,col_indexer] = value instead\n",
      "\n",
      "See the caveats in the documentation: https://pandas.pydata.org/pandas-docs/stable/user_guide/indexing.html#returning-a-view-versus-a-copy\n",
      "  fittedframe_future[deps[0]+'_pred'] = res[:,1]\n",
      "/var/folders/w6/q5_zm221051fpvtg0kr3dy480000gn/T/ipykernel_53544/1309178710.py:83: SettingWithCopyWarning: \n",
      "A value is trying to be set on a copy of a slice from a DataFrame.\n",
      "Try using .loc[row_indexer,col_indexer] = value instead\n",
      "\n",
      "See the caveats in the documentation: https://pandas.pydata.org/pandas-docs/stable/user_guide/indexing.html#returning-a-view-versus-a-copy\n",
      "  fittedframe_future[deps[0]+'_pred_label'] = pred_label\n"
     ]
    },
    {
     "name": "stdout",
     "output_type": "stream",
     "text": [
      "2020 4\n"
     ]
    },
    {
     "name": "stderr",
     "output_type": "stream",
     "text": [
      "/var/folders/w6/q5_zm221051fpvtg0kr3dy480000gn/T/ipykernel_53544/1309178710.py:82: SettingWithCopyWarning: \n",
      "A value is trying to be set on a copy of a slice from a DataFrame.\n",
      "Try using .loc[row_indexer,col_indexer] = value instead\n",
      "\n",
      "See the caveats in the documentation: https://pandas.pydata.org/pandas-docs/stable/user_guide/indexing.html#returning-a-view-versus-a-copy\n",
      "  fittedframe_future[deps[0]+'_pred'] = res[:,1]\n",
      "/var/folders/w6/q5_zm221051fpvtg0kr3dy480000gn/T/ipykernel_53544/1309178710.py:83: SettingWithCopyWarning: \n",
      "A value is trying to be set on a copy of a slice from a DataFrame.\n",
      "Try using .loc[row_indexer,col_indexer] = value instead\n",
      "\n",
      "See the caveats in the documentation: https://pandas.pydata.org/pandas-docs/stable/user_guide/indexing.html#returning-a-view-versus-a-copy\n",
      "  fittedframe_future[deps[0]+'_pred_label'] = pred_label\n"
     ]
    },
    {
     "name": "stdout",
     "output_type": "stream",
     "text": [
      "2020 5\n"
     ]
    },
    {
     "name": "stderr",
     "output_type": "stream",
     "text": [
      "/var/folders/w6/q5_zm221051fpvtg0kr3dy480000gn/T/ipykernel_53544/1309178710.py:82: SettingWithCopyWarning: \n",
      "A value is trying to be set on a copy of a slice from a DataFrame.\n",
      "Try using .loc[row_indexer,col_indexer] = value instead\n",
      "\n",
      "See the caveats in the documentation: https://pandas.pydata.org/pandas-docs/stable/user_guide/indexing.html#returning-a-view-versus-a-copy\n",
      "  fittedframe_future[deps[0]+'_pred'] = res[:,1]\n",
      "/var/folders/w6/q5_zm221051fpvtg0kr3dy480000gn/T/ipykernel_53544/1309178710.py:83: SettingWithCopyWarning: \n",
      "A value is trying to be set on a copy of a slice from a DataFrame.\n",
      "Try using .loc[row_indexer,col_indexer] = value instead\n",
      "\n",
      "See the caveats in the documentation: https://pandas.pydata.org/pandas-docs/stable/user_guide/indexing.html#returning-a-view-versus-a-copy\n",
      "  fittedframe_future[deps[0]+'_pred_label'] = pred_label\n"
     ]
    },
    {
     "name": "stdout",
     "output_type": "stream",
     "text": [
      "2020 6\n"
     ]
    },
    {
     "name": "stderr",
     "output_type": "stream",
     "text": [
      "/var/folders/w6/q5_zm221051fpvtg0kr3dy480000gn/T/ipykernel_53544/1309178710.py:82: SettingWithCopyWarning: \n",
      "A value is trying to be set on a copy of a slice from a DataFrame.\n",
      "Try using .loc[row_indexer,col_indexer] = value instead\n",
      "\n",
      "See the caveats in the documentation: https://pandas.pydata.org/pandas-docs/stable/user_guide/indexing.html#returning-a-view-versus-a-copy\n",
      "  fittedframe_future[deps[0]+'_pred'] = res[:,1]\n",
      "/var/folders/w6/q5_zm221051fpvtg0kr3dy480000gn/T/ipykernel_53544/1309178710.py:83: SettingWithCopyWarning: \n",
      "A value is trying to be set on a copy of a slice from a DataFrame.\n",
      "Try using .loc[row_indexer,col_indexer] = value instead\n",
      "\n",
      "See the caveats in the documentation: https://pandas.pydata.org/pandas-docs/stable/user_guide/indexing.html#returning-a-view-versus-a-copy\n",
      "  fittedframe_future[deps[0]+'_pred_label'] = pred_label\n"
     ]
    },
    {
     "name": "stdout",
     "output_type": "stream",
     "text": [
      "2020 7\n"
     ]
    },
    {
     "name": "stderr",
     "output_type": "stream",
     "text": [
      "/var/folders/w6/q5_zm221051fpvtg0kr3dy480000gn/T/ipykernel_53544/1309178710.py:82: SettingWithCopyWarning: \n",
      "A value is trying to be set on a copy of a slice from a DataFrame.\n",
      "Try using .loc[row_indexer,col_indexer] = value instead\n",
      "\n",
      "See the caveats in the documentation: https://pandas.pydata.org/pandas-docs/stable/user_guide/indexing.html#returning-a-view-versus-a-copy\n",
      "  fittedframe_future[deps[0]+'_pred'] = res[:,1]\n",
      "/var/folders/w6/q5_zm221051fpvtg0kr3dy480000gn/T/ipykernel_53544/1309178710.py:83: SettingWithCopyWarning: \n",
      "A value is trying to be set on a copy of a slice from a DataFrame.\n",
      "Try using .loc[row_indexer,col_indexer] = value instead\n",
      "\n",
      "See the caveats in the documentation: https://pandas.pydata.org/pandas-docs/stable/user_guide/indexing.html#returning-a-view-versus-a-copy\n",
      "  fittedframe_future[deps[0]+'_pred_label'] = pred_label\n"
     ]
    },
    {
     "name": "stdout",
     "output_type": "stream",
     "text": [
      "2020 8\n"
     ]
    },
    {
     "name": "stderr",
     "output_type": "stream",
     "text": [
      "/var/folders/w6/q5_zm221051fpvtg0kr3dy480000gn/T/ipykernel_53544/1309178710.py:82: SettingWithCopyWarning: \n",
      "A value is trying to be set on a copy of a slice from a DataFrame.\n",
      "Try using .loc[row_indexer,col_indexer] = value instead\n",
      "\n",
      "See the caveats in the documentation: https://pandas.pydata.org/pandas-docs/stable/user_guide/indexing.html#returning-a-view-versus-a-copy\n",
      "  fittedframe_future[deps[0]+'_pred'] = res[:,1]\n",
      "/var/folders/w6/q5_zm221051fpvtg0kr3dy480000gn/T/ipykernel_53544/1309178710.py:83: SettingWithCopyWarning: \n",
      "A value is trying to be set on a copy of a slice from a DataFrame.\n",
      "Try using .loc[row_indexer,col_indexer] = value instead\n",
      "\n",
      "See the caveats in the documentation: https://pandas.pydata.org/pandas-docs/stable/user_guide/indexing.html#returning-a-view-versus-a-copy\n",
      "  fittedframe_future[deps[0]+'_pred_label'] = pred_label\n"
     ]
    },
    {
     "name": "stdout",
     "output_type": "stream",
     "text": [
      "2020 9\n"
     ]
    },
    {
     "name": "stderr",
     "output_type": "stream",
     "text": [
      "/var/folders/w6/q5_zm221051fpvtg0kr3dy480000gn/T/ipykernel_53544/1309178710.py:82: SettingWithCopyWarning: \n",
      "A value is trying to be set on a copy of a slice from a DataFrame.\n",
      "Try using .loc[row_indexer,col_indexer] = value instead\n",
      "\n",
      "See the caveats in the documentation: https://pandas.pydata.org/pandas-docs/stable/user_guide/indexing.html#returning-a-view-versus-a-copy\n",
      "  fittedframe_future[deps[0]+'_pred'] = res[:,1]\n",
      "/var/folders/w6/q5_zm221051fpvtg0kr3dy480000gn/T/ipykernel_53544/1309178710.py:83: SettingWithCopyWarning: \n",
      "A value is trying to be set on a copy of a slice from a DataFrame.\n",
      "Try using .loc[row_indexer,col_indexer] = value instead\n",
      "\n",
      "See the caveats in the documentation: https://pandas.pydata.org/pandas-docs/stable/user_guide/indexing.html#returning-a-view-versus-a-copy\n",
      "  fittedframe_future[deps[0]+'_pred_label'] = pred_label\n"
     ]
    },
    {
     "name": "stdout",
     "output_type": "stream",
     "text": [
      "2020 10\n"
     ]
    },
    {
     "name": "stderr",
     "output_type": "stream",
     "text": [
      "/var/folders/w6/q5_zm221051fpvtg0kr3dy480000gn/T/ipykernel_53544/1309178710.py:82: SettingWithCopyWarning: \n",
      "A value is trying to be set on a copy of a slice from a DataFrame.\n",
      "Try using .loc[row_indexer,col_indexer] = value instead\n",
      "\n",
      "See the caveats in the documentation: https://pandas.pydata.org/pandas-docs/stable/user_guide/indexing.html#returning-a-view-versus-a-copy\n",
      "  fittedframe_future[deps[0]+'_pred'] = res[:,1]\n",
      "/var/folders/w6/q5_zm221051fpvtg0kr3dy480000gn/T/ipykernel_53544/1309178710.py:83: SettingWithCopyWarning: \n",
      "A value is trying to be set on a copy of a slice from a DataFrame.\n",
      "Try using .loc[row_indexer,col_indexer] = value instead\n",
      "\n",
      "See the caveats in the documentation: https://pandas.pydata.org/pandas-docs/stable/user_guide/indexing.html#returning-a-view-versus-a-copy\n",
      "  fittedframe_future[deps[0]+'_pred_label'] = pred_label\n"
     ]
    },
    {
     "name": "stdout",
     "output_type": "stream",
     "text": [
      "2020 11\n"
     ]
    },
    {
     "name": "stderr",
     "output_type": "stream",
     "text": [
      "/var/folders/w6/q5_zm221051fpvtg0kr3dy480000gn/T/ipykernel_53544/1309178710.py:82: SettingWithCopyWarning: \n",
      "A value is trying to be set on a copy of a slice from a DataFrame.\n",
      "Try using .loc[row_indexer,col_indexer] = value instead\n",
      "\n",
      "See the caveats in the documentation: https://pandas.pydata.org/pandas-docs/stable/user_guide/indexing.html#returning-a-view-versus-a-copy\n",
      "  fittedframe_future[deps[0]+'_pred'] = res[:,1]\n",
      "/var/folders/w6/q5_zm221051fpvtg0kr3dy480000gn/T/ipykernel_53544/1309178710.py:83: SettingWithCopyWarning: \n",
      "A value is trying to be set on a copy of a slice from a DataFrame.\n",
      "Try using .loc[row_indexer,col_indexer] = value instead\n",
      "\n",
      "See the caveats in the documentation: https://pandas.pydata.org/pandas-docs/stable/user_guide/indexing.html#returning-a-view-versus-a-copy\n",
      "  fittedframe_future[deps[0]+'_pred_label'] = pred_label\n"
     ]
    },
    {
     "name": "stdout",
     "output_type": "stream",
     "text": [
      "2020 12\n"
     ]
    },
    {
     "name": "stderr",
     "output_type": "stream",
     "text": [
      "/var/folders/w6/q5_zm221051fpvtg0kr3dy480000gn/T/ipykernel_53544/1309178710.py:82: SettingWithCopyWarning: \n",
      "A value is trying to be set on a copy of a slice from a DataFrame.\n",
      "Try using .loc[row_indexer,col_indexer] = value instead\n",
      "\n",
      "See the caveats in the documentation: https://pandas.pydata.org/pandas-docs/stable/user_guide/indexing.html#returning-a-view-versus-a-copy\n",
      "  fittedframe_future[deps[0]+'_pred'] = res[:,1]\n",
      "/var/folders/w6/q5_zm221051fpvtg0kr3dy480000gn/T/ipykernel_53544/1309178710.py:83: SettingWithCopyWarning: \n",
      "A value is trying to be set on a copy of a slice from a DataFrame.\n",
      "Try using .loc[row_indexer,col_indexer] = value instead\n",
      "\n",
      "See the caveats in the documentation: https://pandas.pydata.org/pandas-docs/stable/user_guide/indexing.html#returning-a-view-versus-a-copy\n",
      "  fittedframe_future[deps[0]+'_pred_label'] = pred_label\n"
     ]
    },
    {
     "name": "stdout",
     "output_type": "stream",
     "text": [
      "2021 1\n"
     ]
    },
    {
     "name": "stderr",
     "output_type": "stream",
     "text": [
      "/var/folders/w6/q5_zm221051fpvtg0kr3dy480000gn/T/ipykernel_53544/1309178710.py:82: SettingWithCopyWarning: \n",
      "A value is trying to be set on a copy of a slice from a DataFrame.\n",
      "Try using .loc[row_indexer,col_indexer] = value instead\n",
      "\n",
      "See the caveats in the documentation: https://pandas.pydata.org/pandas-docs/stable/user_guide/indexing.html#returning-a-view-versus-a-copy\n",
      "  fittedframe_future[deps[0]+'_pred'] = res[:,1]\n",
      "/var/folders/w6/q5_zm221051fpvtg0kr3dy480000gn/T/ipykernel_53544/1309178710.py:83: SettingWithCopyWarning: \n",
      "A value is trying to be set on a copy of a slice from a DataFrame.\n",
      "Try using .loc[row_indexer,col_indexer] = value instead\n",
      "\n",
      "See the caveats in the documentation: https://pandas.pydata.org/pandas-docs/stable/user_guide/indexing.html#returning-a-view-versus-a-copy\n",
      "  fittedframe_future[deps[0]+'_pred_label'] = pred_label\n"
     ]
    },
    {
     "name": "stdout",
     "output_type": "stream",
     "text": [
      "2021 2\n"
     ]
    },
    {
     "name": "stderr",
     "output_type": "stream",
     "text": [
      "/var/folders/w6/q5_zm221051fpvtg0kr3dy480000gn/T/ipykernel_53544/1309178710.py:82: SettingWithCopyWarning: \n",
      "A value is trying to be set on a copy of a slice from a DataFrame.\n",
      "Try using .loc[row_indexer,col_indexer] = value instead\n",
      "\n",
      "See the caveats in the documentation: https://pandas.pydata.org/pandas-docs/stable/user_guide/indexing.html#returning-a-view-versus-a-copy\n",
      "  fittedframe_future[deps[0]+'_pred'] = res[:,1]\n",
      "/var/folders/w6/q5_zm221051fpvtg0kr3dy480000gn/T/ipykernel_53544/1309178710.py:83: SettingWithCopyWarning: \n",
      "A value is trying to be set on a copy of a slice from a DataFrame.\n",
      "Try using .loc[row_indexer,col_indexer] = value instead\n",
      "\n",
      "See the caveats in the documentation: https://pandas.pydata.org/pandas-docs/stable/user_guide/indexing.html#returning-a-view-versus-a-copy\n",
      "  fittedframe_future[deps[0]+'_pred_label'] = pred_label\n"
     ]
    },
    {
     "name": "stdout",
     "output_type": "stream",
     "text": [
      "2021 3\n"
     ]
    },
    {
     "name": "stderr",
     "output_type": "stream",
     "text": [
      "/var/folders/w6/q5_zm221051fpvtg0kr3dy480000gn/T/ipykernel_53544/1309178710.py:82: SettingWithCopyWarning: \n",
      "A value is trying to be set on a copy of a slice from a DataFrame.\n",
      "Try using .loc[row_indexer,col_indexer] = value instead\n",
      "\n",
      "See the caveats in the documentation: https://pandas.pydata.org/pandas-docs/stable/user_guide/indexing.html#returning-a-view-versus-a-copy\n",
      "  fittedframe_future[deps[0]+'_pred'] = res[:,1]\n",
      "/var/folders/w6/q5_zm221051fpvtg0kr3dy480000gn/T/ipykernel_53544/1309178710.py:83: SettingWithCopyWarning: \n",
      "A value is trying to be set on a copy of a slice from a DataFrame.\n",
      "Try using .loc[row_indexer,col_indexer] = value instead\n",
      "\n",
      "See the caveats in the documentation: https://pandas.pydata.org/pandas-docs/stable/user_guide/indexing.html#returning-a-view-versus-a-copy\n",
      "  fittedframe_future[deps[0]+'_pred_label'] = pred_label\n"
     ]
    },
    {
     "name": "stdout",
     "output_type": "stream",
     "text": [
      "2021 4\n"
     ]
    },
    {
     "name": "stderr",
     "output_type": "stream",
     "text": [
      "/var/folders/w6/q5_zm221051fpvtg0kr3dy480000gn/T/ipykernel_53544/1309178710.py:82: SettingWithCopyWarning: \n",
      "A value is trying to be set on a copy of a slice from a DataFrame.\n",
      "Try using .loc[row_indexer,col_indexer] = value instead\n",
      "\n",
      "See the caveats in the documentation: https://pandas.pydata.org/pandas-docs/stable/user_guide/indexing.html#returning-a-view-versus-a-copy\n",
      "  fittedframe_future[deps[0]+'_pred'] = res[:,1]\n",
      "/var/folders/w6/q5_zm221051fpvtg0kr3dy480000gn/T/ipykernel_53544/1309178710.py:83: SettingWithCopyWarning: \n",
      "A value is trying to be set on a copy of a slice from a DataFrame.\n",
      "Try using .loc[row_indexer,col_indexer] = value instead\n",
      "\n",
      "See the caveats in the documentation: https://pandas.pydata.org/pandas-docs/stable/user_guide/indexing.html#returning-a-view-versus-a-copy\n",
      "  fittedframe_future[deps[0]+'_pred_label'] = pred_label\n"
     ]
    },
    {
     "name": "stdout",
     "output_type": "stream",
     "text": [
      "2021 5\n"
     ]
    },
    {
     "name": "stderr",
     "output_type": "stream",
     "text": [
      "/var/folders/w6/q5_zm221051fpvtg0kr3dy480000gn/T/ipykernel_53544/1309178710.py:82: SettingWithCopyWarning: \n",
      "A value is trying to be set on a copy of a slice from a DataFrame.\n",
      "Try using .loc[row_indexer,col_indexer] = value instead\n",
      "\n",
      "See the caveats in the documentation: https://pandas.pydata.org/pandas-docs/stable/user_guide/indexing.html#returning-a-view-versus-a-copy\n",
      "  fittedframe_future[deps[0]+'_pred'] = res[:,1]\n",
      "/var/folders/w6/q5_zm221051fpvtg0kr3dy480000gn/T/ipykernel_53544/1309178710.py:83: SettingWithCopyWarning: \n",
      "A value is trying to be set on a copy of a slice from a DataFrame.\n",
      "Try using .loc[row_indexer,col_indexer] = value instead\n",
      "\n",
      "See the caveats in the documentation: https://pandas.pydata.org/pandas-docs/stable/user_guide/indexing.html#returning-a-view-versus-a-copy\n",
      "  fittedframe_future[deps[0]+'_pred_label'] = pred_label\n"
     ]
    },
    {
     "name": "stdout",
     "output_type": "stream",
     "text": [
      "2021 6\n"
     ]
    },
    {
     "name": "stderr",
     "output_type": "stream",
     "text": [
      "/var/folders/w6/q5_zm221051fpvtg0kr3dy480000gn/T/ipykernel_53544/1309178710.py:82: SettingWithCopyWarning: \n",
      "A value is trying to be set on a copy of a slice from a DataFrame.\n",
      "Try using .loc[row_indexer,col_indexer] = value instead\n",
      "\n",
      "See the caveats in the documentation: https://pandas.pydata.org/pandas-docs/stable/user_guide/indexing.html#returning-a-view-versus-a-copy\n",
      "  fittedframe_future[deps[0]+'_pred'] = res[:,1]\n",
      "/var/folders/w6/q5_zm221051fpvtg0kr3dy480000gn/T/ipykernel_53544/1309178710.py:83: SettingWithCopyWarning: \n",
      "A value is trying to be set on a copy of a slice from a DataFrame.\n",
      "Try using .loc[row_indexer,col_indexer] = value instead\n",
      "\n",
      "See the caveats in the documentation: https://pandas.pydata.org/pandas-docs/stable/user_guide/indexing.html#returning-a-view-versus-a-copy\n",
      "  fittedframe_future[deps[0]+'_pred_label'] = pred_label\n"
     ]
    },
    {
     "name": "stdout",
     "output_type": "stream",
     "text": [
      "2021 7\n"
     ]
    },
    {
     "name": "stderr",
     "output_type": "stream",
     "text": [
      "/var/folders/w6/q5_zm221051fpvtg0kr3dy480000gn/T/ipykernel_53544/1309178710.py:82: SettingWithCopyWarning: \n",
      "A value is trying to be set on a copy of a slice from a DataFrame.\n",
      "Try using .loc[row_indexer,col_indexer] = value instead\n",
      "\n",
      "See the caveats in the documentation: https://pandas.pydata.org/pandas-docs/stable/user_guide/indexing.html#returning-a-view-versus-a-copy\n",
      "  fittedframe_future[deps[0]+'_pred'] = res[:,1]\n",
      "/var/folders/w6/q5_zm221051fpvtg0kr3dy480000gn/T/ipykernel_53544/1309178710.py:83: SettingWithCopyWarning: \n",
      "A value is trying to be set on a copy of a slice from a DataFrame.\n",
      "Try using .loc[row_indexer,col_indexer] = value instead\n",
      "\n",
      "See the caveats in the documentation: https://pandas.pydata.org/pandas-docs/stable/user_guide/indexing.html#returning-a-view-versus-a-copy\n",
      "  fittedframe_future[deps[0]+'_pred_label'] = pred_label\n"
     ]
    },
    {
     "name": "stdout",
     "output_type": "stream",
     "text": [
      "2021 8\n"
     ]
    },
    {
     "name": "stderr",
     "output_type": "stream",
     "text": [
      "/var/folders/w6/q5_zm221051fpvtg0kr3dy480000gn/T/ipykernel_53544/1309178710.py:82: SettingWithCopyWarning: \n",
      "A value is trying to be set on a copy of a slice from a DataFrame.\n",
      "Try using .loc[row_indexer,col_indexer] = value instead\n",
      "\n",
      "See the caveats in the documentation: https://pandas.pydata.org/pandas-docs/stable/user_guide/indexing.html#returning-a-view-versus-a-copy\n",
      "  fittedframe_future[deps[0]+'_pred'] = res[:,1]\n",
      "/var/folders/w6/q5_zm221051fpvtg0kr3dy480000gn/T/ipykernel_53544/1309178710.py:83: SettingWithCopyWarning: \n",
      "A value is trying to be set on a copy of a slice from a DataFrame.\n",
      "Try using .loc[row_indexer,col_indexer] = value instead\n",
      "\n",
      "See the caveats in the documentation: https://pandas.pydata.org/pandas-docs/stable/user_guide/indexing.html#returning-a-view-versus-a-copy\n",
      "  fittedframe_future[deps[0]+'_pred_label'] = pred_label\n"
     ]
    },
    {
     "name": "stdout",
     "output_type": "stream",
     "text": [
      "2021 9\n"
     ]
    },
    {
     "name": "stderr",
     "output_type": "stream",
     "text": [
      "/var/folders/w6/q5_zm221051fpvtg0kr3dy480000gn/T/ipykernel_53544/1309178710.py:82: SettingWithCopyWarning: \n",
      "A value is trying to be set on a copy of a slice from a DataFrame.\n",
      "Try using .loc[row_indexer,col_indexer] = value instead\n",
      "\n",
      "See the caveats in the documentation: https://pandas.pydata.org/pandas-docs/stable/user_guide/indexing.html#returning-a-view-versus-a-copy\n",
      "  fittedframe_future[deps[0]+'_pred'] = res[:,1]\n",
      "/var/folders/w6/q5_zm221051fpvtg0kr3dy480000gn/T/ipykernel_53544/1309178710.py:83: SettingWithCopyWarning: \n",
      "A value is trying to be set on a copy of a slice from a DataFrame.\n",
      "Try using .loc[row_indexer,col_indexer] = value instead\n",
      "\n",
      "See the caveats in the documentation: https://pandas.pydata.org/pandas-docs/stable/user_guide/indexing.html#returning-a-view-versus-a-copy\n",
      "  fittedframe_future[deps[0]+'_pred_label'] = pred_label\n"
     ]
    },
    {
     "name": "stdout",
     "output_type": "stream",
     "text": [
      "2021 10\n"
     ]
    },
    {
     "name": "stderr",
     "output_type": "stream",
     "text": [
      "/var/folders/w6/q5_zm221051fpvtg0kr3dy480000gn/T/ipykernel_53544/1309178710.py:82: SettingWithCopyWarning: \n",
      "A value is trying to be set on a copy of a slice from a DataFrame.\n",
      "Try using .loc[row_indexer,col_indexer] = value instead\n",
      "\n",
      "See the caveats in the documentation: https://pandas.pydata.org/pandas-docs/stable/user_guide/indexing.html#returning-a-view-versus-a-copy\n",
      "  fittedframe_future[deps[0]+'_pred'] = res[:,1]\n",
      "/var/folders/w6/q5_zm221051fpvtg0kr3dy480000gn/T/ipykernel_53544/1309178710.py:83: SettingWithCopyWarning: \n",
      "A value is trying to be set on a copy of a slice from a DataFrame.\n",
      "Try using .loc[row_indexer,col_indexer] = value instead\n",
      "\n",
      "See the caveats in the documentation: https://pandas.pydata.org/pandas-docs/stable/user_guide/indexing.html#returning-a-view-versus-a-copy\n",
      "  fittedframe_future[deps[0]+'_pred_label'] = pred_label\n"
     ]
    },
    {
     "name": "stdout",
     "output_type": "stream",
     "text": [
      "2021 11\n"
     ]
    },
    {
     "name": "stderr",
     "output_type": "stream",
     "text": [
      "/var/folders/w6/q5_zm221051fpvtg0kr3dy480000gn/T/ipykernel_53544/1309178710.py:82: SettingWithCopyWarning: \n",
      "A value is trying to be set on a copy of a slice from a DataFrame.\n",
      "Try using .loc[row_indexer,col_indexer] = value instead\n",
      "\n",
      "See the caveats in the documentation: https://pandas.pydata.org/pandas-docs/stable/user_guide/indexing.html#returning-a-view-versus-a-copy\n",
      "  fittedframe_future[deps[0]+'_pred'] = res[:,1]\n",
      "/var/folders/w6/q5_zm221051fpvtg0kr3dy480000gn/T/ipykernel_53544/1309178710.py:83: SettingWithCopyWarning: \n",
      "A value is trying to be set on a copy of a slice from a DataFrame.\n",
      "Try using .loc[row_indexer,col_indexer] = value instead\n",
      "\n",
      "See the caveats in the documentation: https://pandas.pydata.org/pandas-docs/stable/user_guide/indexing.html#returning-a-view-versus-a-copy\n",
      "  fittedframe_future[deps[0]+'_pred_label'] = pred_label\n"
     ]
    },
    {
     "name": "stdout",
     "output_type": "stream",
     "text": [
      "2021 12\n"
     ]
    },
    {
     "name": "stderr",
     "output_type": "stream",
     "text": [
      "/var/folders/w6/q5_zm221051fpvtg0kr3dy480000gn/T/ipykernel_53544/1309178710.py:82: SettingWithCopyWarning: \n",
      "A value is trying to be set on a copy of a slice from a DataFrame.\n",
      "Try using .loc[row_indexer,col_indexer] = value instead\n",
      "\n",
      "See the caveats in the documentation: https://pandas.pydata.org/pandas-docs/stable/user_guide/indexing.html#returning-a-view-versus-a-copy\n",
      "  fittedframe_future[deps[0]+'_pred'] = res[:,1]\n",
      "/var/folders/w6/q5_zm221051fpvtg0kr3dy480000gn/T/ipykernel_53544/1309178710.py:83: SettingWithCopyWarning: \n",
      "A value is trying to be set on a copy of a slice from a DataFrame.\n",
      "Try using .loc[row_indexer,col_indexer] = value instead\n",
      "\n",
      "See the caveats in the documentation: https://pandas.pydata.org/pandas-docs/stable/user_guide/indexing.html#returning-a-view-versus-a-copy\n",
      "  fittedframe_future[deps[0]+'_pred_label'] = pred_label\n"
     ]
    },
    {
     "name": "stdout",
     "output_type": "stream",
     "text": [
      "2022 1\n"
     ]
    },
    {
     "name": "stderr",
     "output_type": "stream",
     "text": [
      "/var/folders/w6/q5_zm221051fpvtg0kr3dy480000gn/T/ipykernel_53544/1309178710.py:82: SettingWithCopyWarning: \n",
      "A value is trying to be set on a copy of a slice from a DataFrame.\n",
      "Try using .loc[row_indexer,col_indexer] = value instead\n",
      "\n",
      "See the caveats in the documentation: https://pandas.pydata.org/pandas-docs/stable/user_guide/indexing.html#returning-a-view-versus-a-copy\n",
      "  fittedframe_future[deps[0]+'_pred'] = res[:,1]\n",
      "/var/folders/w6/q5_zm221051fpvtg0kr3dy480000gn/T/ipykernel_53544/1309178710.py:83: SettingWithCopyWarning: \n",
      "A value is trying to be set on a copy of a slice from a DataFrame.\n",
      "Try using .loc[row_indexer,col_indexer] = value instead\n",
      "\n",
      "See the caveats in the documentation: https://pandas.pydata.org/pandas-docs/stable/user_guide/indexing.html#returning-a-view-versus-a-copy\n",
      "  fittedframe_future[deps[0]+'_pred_label'] = pred_label\n"
     ]
    },
    {
     "name": "stdout",
     "output_type": "stream",
     "text": [
      "2022 2\n"
     ]
    },
    {
     "name": "stderr",
     "output_type": "stream",
     "text": [
      "/var/folders/w6/q5_zm221051fpvtg0kr3dy480000gn/T/ipykernel_53544/1309178710.py:82: SettingWithCopyWarning: \n",
      "A value is trying to be set on a copy of a slice from a DataFrame.\n",
      "Try using .loc[row_indexer,col_indexer] = value instead\n",
      "\n",
      "See the caveats in the documentation: https://pandas.pydata.org/pandas-docs/stable/user_guide/indexing.html#returning-a-view-versus-a-copy\n",
      "  fittedframe_future[deps[0]+'_pred'] = res[:,1]\n",
      "/var/folders/w6/q5_zm221051fpvtg0kr3dy480000gn/T/ipykernel_53544/1309178710.py:83: SettingWithCopyWarning: \n",
      "A value is trying to be set on a copy of a slice from a DataFrame.\n",
      "Try using .loc[row_indexer,col_indexer] = value instead\n",
      "\n",
      "See the caveats in the documentation: https://pandas.pydata.org/pandas-docs/stable/user_guide/indexing.html#returning-a-view-versus-a-copy\n",
      "  fittedframe_future[deps[0]+'_pred_label'] = pred_label\n"
     ]
    },
    {
     "name": "stdout",
     "output_type": "stream",
     "text": [
      "2022 3\n"
     ]
    },
    {
     "name": "stderr",
     "output_type": "stream",
     "text": [
      "/var/folders/w6/q5_zm221051fpvtg0kr3dy480000gn/T/ipykernel_53544/1309178710.py:82: SettingWithCopyWarning: \n",
      "A value is trying to be set on a copy of a slice from a DataFrame.\n",
      "Try using .loc[row_indexer,col_indexer] = value instead\n",
      "\n",
      "See the caveats in the documentation: https://pandas.pydata.org/pandas-docs/stable/user_guide/indexing.html#returning-a-view-versus-a-copy\n",
      "  fittedframe_future[deps[0]+'_pred'] = res[:,1]\n",
      "/var/folders/w6/q5_zm221051fpvtg0kr3dy480000gn/T/ipykernel_53544/1309178710.py:83: SettingWithCopyWarning: \n",
      "A value is trying to be set on a copy of a slice from a DataFrame.\n",
      "Try using .loc[row_indexer,col_indexer] = value instead\n",
      "\n",
      "See the caveats in the documentation: https://pandas.pydata.org/pandas-docs/stable/user_guide/indexing.html#returning-a-view-versus-a-copy\n",
      "  fittedframe_future[deps[0]+'_pred_label'] = pred_label\n"
     ]
    },
    {
     "name": "stdout",
     "output_type": "stream",
     "text": [
      "2022 4\n"
     ]
    },
    {
     "name": "stderr",
     "output_type": "stream",
     "text": [
      "/var/folders/w6/q5_zm221051fpvtg0kr3dy480000gn/T/ipykernel_53544/1309178710.py:82: SettingWithCopyWarning: \n",
      "A value is trying to be set on a copy of a slice from a DataFrame.\n",
      "Try using .loc[row_indexer,col_indexer] = value instead\n",
      "\n",
      "See the caveats in the documentation: https://pandas.pydata.org/pandas-docs/stable/user_guide/indexing.html#returning-a-view-versus-a-copy\n",
      "  fittedframe_future[deps[0]+'_pred'] = res[:,1]\n",
      "/var/folders/w6/q5_zm221051fpvtg0kr3dy480000gn/T/ipykernel_53544/1309178710.py:83: SettingWithCopyWarning: \n",
      "A value is trying to be set on a copy of a slice from a DataFrame.\n",
      "Try using .loc[row_indexer,col_indexer] = value instead\n",
      "\n",
      "See the caveats in the documentation: https://pandas.pydata.org/pandas-docs/stable/user_guide/indexing.html#returning-a-view-versus-a-copy\n",
      "  fittedframe_future[deps[0]+'_pred_label'] = pred_label\n"
     ]
    },
    {
     "name": "stdout",
     "output_type": "stream",
     "text": [
      "2022 5\n"
     ]
    },
    {
     "name": "stderr",
     "output_type": "stream",
     "text": [
      "/var/folders/w6/q5_zm221051fpvtg0kr3dy480000gn/T/ipykernel_53544/1309178710.py:82: SettingWithCopyWarning: \n",
      "A value is trying to be set on a copy of a slice from a DataFrame.\n",
      "Try using .loc[row_indexer,col_indexer] = value instead\n",
      "\n",
      "See the caveats in the documentation: https://pandas.pydata.org/pandas-docs/stable/user_guide/indexing.html#returning-a-view-versus-a-copy\n",
      "  fittedframe_future[deps[0]+'_pred'] = res[:,1]\n",
      "/var/folders/w6/q5_zm221051fpvtg0kr3dy480000gn/T/ipykernel_53544/1309178710.py:83: SettingWithCopyWarning: \n",
      "A value is trying to be set on a copy of a slice from a DataFrame.\n",
      "Try using .loc[row_indexer,col_indexer] = value instead\n",
      "\n",
      "See the caveats in the documentation: https://pandas.pydata.org/pandas-docs/stable/user_guide/indexing.html#returning-a-view-versus-a-copy\n",
      "  fittedframe_future[deps[0]+'_pred_label'] = pred_label\n"
     ]
    },
    {
     "name": "stdout",
     "output_type": "stream",
     "text": [
      "2022 6\n"
     ]
    },
    {
     "name": "stderr",
     "output_type": "stream",
     "text": [
      "/var/folders/w6/q5_zm221051fpvtg0kr3dy480000gn/T/ipykernel_53544/1309178710.py:82: SettingWithCopyWarning: \n",
      "A value is trying to be set on a copy of a slice from a DataFrame.\n",
      "Try using .loc[row_indexer,col_indexer] = value instead\n",
      "\n",
      "See the caveats in the documentation: https://pandas.pydata.org/pandas-docs/stable/user_guide/indexing.html#returning-a-view-versus-a-copy\n",
      "  fittedframe_future[deps[0]+'_pred'] = res[:,1]\n",
      "/var/folders/w6/q5_zm221051fpvtg0kr3dy480000gn/T/ipykernel_53544/1309178710.py:83: SettingWithCopyWarning: \n",
      "A value is trying to be set on a copy of a slice from a DataFrame.\n",
      "Try using .loc[row_indexer,col_indexer] = value instead\n",
      "\n",
      "See the caveats in the documentation: https://pandas.pydata.org/pandas-docs/stable/user_guide/indexing.html#returning-a-view-versus-a-copy\n",
      "  fittedframe_future[deps[0]+'_pred_label'] = pred_label\n"
     ]
    },
    {
     "name": "stdout",
     "output_type": "stream",
     "text": [
      "2022 7\n"
     ]
    },
    {
     "name": "stderr",
     "output_type": "stream",
     "text": [
      "/var/folders/w6/q5_zm221051fpvtg0kr3dy480000gn/T/ipykernel_53544/1309178710.py:82: SettingWithCopyWarning: \n",
      "A value is trying to be set on a copy of a slice from a DataFrame.\n",
      "Try using .loc[row_indexer,col_indexer] = value instead\n",
      "\n",
      "See the caveats in the documentation: https://pandas.pydata.org/pandas-docs/stable/user_guide/indexing.html#returning-a-view-versus-a-copy\n",
      "  fittedframe_future[deps[0]+'_pred'] = res[:,1]\n",
      "/var/folders/w6/q5_zm221051fpvtg0kr3dy480000gn/T/ipykernel_53544/1309178710.py:83: SettingWithCopyWarning: \n",
      "A value is trying to be set on a copy of a slice from a DataFrame.\n",
      "Try using .loc[row_indexer,col_indexer] = value instead\n",
      "\n",
      "See the caveats in the documentation: https://pandas.pydata.org/pandas-docs/stable/user_guide/indexing.html#returning-a-view-versus-a-copy\n",
      "  fittedframe_future[deps[0]+'_pred_label'] = pred_label\n"
     ]
    },
    {
     "name": "stdout",
     "output_type": "stream",
     "text": [
      "2022 8\n"
     ]
    },
    {
     "name": "stderr",
     "output_type": "stream",
     "text": [
      "/var/folders/w6/q5_zm221051fpvtg0kr3dy480000gn/T/ipykernel_53544/1309178710.py:82: SettingWithCopyWarning: \n",
      "A value is trying to be set on a copy of a slice from a DataFrame.\n",
      "Try using .loc[row_indexer,col_indexer] = value instead\n",
      "\n",
      "See the caveats in the documentation: https://pandas.pydata.org/pandas-docs/stable/user_guide/indexing.html#returning-a-view-versus-a-copy\n",
      "  fittedframe_future[deps[0]+'_pred'] = res[:,1]\n",
      "/var/folders/w6/q5_zm221051fpvtg0kr3dy480000gn/T/ipykernel_53544/1309178710.py:83: SettingWithCopyWarning: \n",
      "A value is trying to be set on a copy of a slice from a DataFrame.\n",
      "Try using .loc[row_indexer,col_indexer] = value instead\n",
      "\n",
      "See the caveats in the documentation: https://pandas.pydata.org/pandas-docs/stable/user_guide/indexing.html#returning-a-view-versus-a-copy\n",
      "  fittedframe_future[deps[0]+'_pred_label'] = pred_label\n"
     ]
    },
    {
     "name": "stdout",
     "output_type": "stream",
     "text": [
      "2022 9\n"
     ]
    },
    {
     "name": "stderr",
     "output_type": "stream",
     "text": [
      "/var/folders/w6/q5_zm221051fpvtg0kr3dy480000gn/T/ipykernel_53544/1309178710.py:82: SettingWithCopyWarning: \n",
      "A value is trying to be set on a copy of a slice from a DataFrame.\n",
      "Try using .loc[row_indexer,col_indexer] = value instead\n",
      "\n",
      "See the caveats in the documentation: https://pandas.pydata.org/pandas-docs/stable/user_guide/indexing.html#returning-a-view-versus-a-copy\n",
      "  fittedframe_future[deps[0]+'_pred'] = res[:,1]\n",
      "/var/folders/w6/q5_zm221051fpvtg0kr3dy480000gn/T/ipykernel_53544/1309178710.py:83: SettingWithCopyWarning: \n",
      "A value is trying to be set on a copy of a slice from a DataFrame.\n",
      "Try using .loc[row_indexer,col_indexer] = value instead\n",
      "\n",
      "See the caveats in the documentation: https://pandas.pydata.org/pandas-docs/stable/user_guide/indexing.html#returning-a-view-versus-a-copy\n",
      "  fittedframe_future[deps[0]+'_pred_label'] = pred_label\n"
     ]
    },
    {
     "name": "stdout",
     "output_type": "stream",
     "text": [
      "2022 10\n"
     ]
    },
    {
     "name": "stderr",
     "output_type": "stream",
     "text": [
      "/var/folders/w6/q5_zm221051fpvtg0kr3dy480000gn/T/ipykernel_53544/1309178710.py:82: SettingWithCopyWarning: \n",
      "A value is trying to be set on a copy of a slice from a DataFrame.\n",
      "Try using .loc[row_indexer,col_indexer] = value instead\n",
      "\n",
      "See the caveats in the documentation: https://pandas.pydata.org/pandas-docs/stable/user_guide/indexing.html#returning-a-view-versus-a-copy\n",
      "  fittedframe_future[deps[0]+'_pred'] = res[:,1]\n",
      "/var/folders/w6/q5_zm221051fpvtg0kr3dy480000gn/T/ipykernel_53544/1309178710.py:83: SettingWithCopyWarning: \n",
      "A value is trying to be set on a copy of a slice from a DataFrame.\n",
      "Try using .loc[row_indexer,col_indexer] = value instead\n",
      "\n",
      "See the caveats in the documentation: https://pandas.pydata.org/pandas-docs/stable/user_guide/indexing.html#returning-a-view-versus-a-copy\n",
      "  fittedframe_future[deps[0]+'_pred_label'] = pred_label\n"
     ]
    },
    {
     "name": "stdout",
     "output_type": "stream",
     "text": [
      "2022 11\n"
     ]
    },
    {
     "name": "stderr",
     "output_type": "stream",
     "text": [
      "/var/folders/w6/q5_zm221051fpvtg0kr3dy480000gn/T/ipykernel_53544/1309178710.py:82: SettingWithCopyWarning: \n",
      "A value is trying to be set on a copy of a slice from a DataFrame.\n",
      "Try using .loc[row_indexer,col_indexer] = value instead\n",
      "\n",
      "See the caveats in the documentation: https://pandas.pydata.org/pandas-docs/stable/user_guide/indexing.html#returning-a-view-versus-a-copy\n",
      "  fittedframe_future[deps[0]+'_pred'] = res[:,1]\n",
      "/var/folders/w6/q5_zm221051fpvtg0kr3dy480000gn/T/ipykernel_53544/1309178710.py:83: SettingWithCopyWarning: \n",
      "A value is trying to be set on a copy of a slice from a DataFrame.\n",
      "Try using .loc[row_indexer,col_indexer] = value instead\n",
      "\n",
      "See the caveats in the documentation: https://pandas.pydata.org/pandas-docs/stable/user_guide/indexing.html#returning-a-view-versus-a-copy\n",
      "  fittedframe_future[deps[0]+'_pred_label'] = pred_label\n"
     ]
    },
    {
     "name": "stdout",
     "output_type": "stream",
     "text": [
      "2022 12\n"
     ]
    },
    {
     "name": "stderr",
     "output_type": "stream",
     "text": [
      "/var/folders/w6/q5_zm221051fpvtg0kr3dy480000gn/T/ipykernel_53544/1309178710.py:82: SettingWithCopyWarning: \n",
      "A value is trying to be set on a copy of a slice from a DataFrame.\n",
      "Try using .loc[row_indexer,col_indexer] = value instead\n",
      "\n",
      "See the caveats in the documentation: https://pandas.pydata.org/pandas-docs/stable/user_guide/indexing.html#returning-a-view-versus-a-copy\n",
      "  fittedframe_future[deps[0]+'_pred'] = res[:,1]\n",
      "/var/folders/w6/q5_zm221051fpvtg0kr3dy480000gn/T/ipykernel_53544/1309178710.py:83: SettingWithCopyWarning: \n",
      "A value is trying to be set on a copy of a slice from a DataFrame.\n",
      "Try using .loc[row_indexer,col_indexer] = value instead\n",
      "\n",
      "See the caveats in the documentation: https://pandas.pydata.org/pandas-docs/stable/user_guide/indexing.html#returning-a-view-versus-a-copy\n",
      "  fittedframe_future[deps[0]+'_pred_label'] = pred_label\n"
     ]
    }
   ],
   "source": [
    "gendata=1\n",
    "\n",
    "i = [6]\n",
    "j = [[8]]\n",
    "\n",
    "for forward, d1 in zip(i,j):\n",
    "    \n",
    "    for depths in d1:\n",
    "        \n",
    "        for deps in [[f'target_f{forward}']]:\n",
    "            \n",
    "            for min_samples_leafs in [100]:\n",
    "                \n",
    "                trees = 700\n",
    "\n",
    "                topics = 15\n",
    "\n",
    "                startyearid = 2015\n",
    "                \n",
    "                initialize = 1\n",
    "\n",
    "                min_samples_splits = 2\n",
    "\n",
    "                search = 0\n",
    "\n",
    "                if initialize == 1:\n",
    "                    \n",
    "                    monthid = 1\n",
    "                    yearid = startyearid\n",
    "\n",
    "                    \n",
    "                    dataslices = prepare_slice(topics, yearid, monthid, deps, forward)\n",
    "                    \n",
    "                    \n",
    "                    fittedvalues = []\n",
    "                    fittedvalues.append('isocode')\n",
    "                    fittedvalues.append('year')\n",
    "                    fittedvalues.append('month')\n",
    "                    fittedframe = pd.DataFrame(columns=['isocode','year','month'])\n",
    "                    fittedframe_future=pd.DataFrame(columns=['isocode','year','month'])\n",
    "\n",
    "                #setting parameters defined above of doing search\n",
    "                if search==1:\n",
    "                    \n",
    "                    print(\"entering search\")\n",
    "                    clf=runsearch(dataslices[1], dataslices[0])\n",
    "\n",
    "                else:\n",
    "                    clf=setparams(trees,depths,min_samples_splits,min_samples_leafs)\n",
    "\n",
    "                #enter loop\n",
    "                startyearid=startyearid\n",
    "                \n",
    "                for yearid in range(startyearid,2023):\n",
    "                    \n",
    "                    if yearid < 2023:\n",
    "                        \n",
    "                        maxmonth = 13\n",
    "                    \n",
    "                    else:\n",
    "                        maxmonth = 3\n",
    "\n",
    "                    \n",
    "                    for monthid in range(1, maxmonth):\n",
    "                        \n",
    "                        print(yearid, monthid)\n",
    "                        \n",
    "\n",
    "                        dataslices=prepare_slice(topics, yearid, monthid, deps, forward)\n",
    "                        \n",
    "                        df1_future=dataslices[3]\n",
    "\n",
    "                        fittedvalues=[]\n",
    "                        fittedvalues.append('isocode')\n",
    "                        fittedvalues.append('year')\n",
    "                        fittedvalues.append('month')  \n",
    "                        fittedframe_future = df1_future[fittedvalues]\n",
    "\n",
    "                        clf.fit(dataslices[1], dataslices[0])\n",
    "                        res = clf.predict_proba(dataslices[2])\n",
    "                        pred_label = clf.predict(dataslices[2])\n",
    "                        fittedframe_future[deps[0]+'_pred'] = res[:,1]\n",
    "                        fittedframe_future[deps[0]+'_pred_label'] = pred_label\n",
    "\n",
    "                        fittedframe=pd.concat([fittedframe,fittedframe_future])\n",
    "                \n",
    "                gendata=1\n",
    "                \n",
    "                fittedframe.to_csv(\"{}_predictions.csv\".format(deps[0]))"
   ]
  },
  {
   "cell_type": "markdown",
   "id": "94953c3e",
   "metadata": {},
   "source": [
    "#### Let's review the outcomes of the model"
   ]
  },
  {
   "cell_type": "code",
   "execution_count": 228,
   "id": "a2b86833",
   "metadata": {},
   "outputs": [
    {
     "data": {
      "image/png": "[encoded data removed]",
      "text/plain": [
       "<Figure size 640x480 with 1 Axes>"
      ]
     },
     "metadata": {},
     "output_type": "display_data"
    }
   ],
   "source": [
    "importances_clf = pd.Series(data = clf.feature_importances_,\n",
    "                                index= clf.feature_names_in_)\n",
    "\n",
    "importances_sorted_clf = importances_clf.sort_values()\n",
    "\n",
    "importances_sorted_clf.plot(kind='barh', color='green')\n",
    "plt.title('Gini Features Importances', size=15)\n",
    "plt.show()"
   ]
  },
  {
   "cell_type": "markdown",
   "id": "cb800b60",
   "metadata": {},
   "source": [
    "This graph indicates there might be relationship between public discourse being focused on foreign policy and the increased likelihood of cyber attacks. "
   ]
  },
  {
   "cell_type": "code",
   "execution_count": 246,
   "id": "78f66162",
   "metadata": {},
   "outputs": [
    {
     "name": "stdout",
     "output_type": "stream",
     "text": [
      "observations: 11874\n",
      "model AUC: 0.7480431782847791 and av.precision: 0.6516304051414905\n",
      "model F1: 0.4569687738004569\n"
     ]
    }
   ],
   "source": [
    "# Model Assessment\n",
    "#merging fitted values back to main data to be able to calculate performance\n",
    "data = cyber_attacks.copy()\n",
    "\n",
    "for deps in [[f'target_f{forward}']]:\n",
    "    \n",
    "    my_file = Path(\"{}_predictions.csv\".format(deps[0]))\n",
    "\n",
    "    predictions=pd.read_table(my_file, sep=',')\n",
    "\n",
    "    fittedvalues=predictions.dropna(subset=['{}_pred'.format(deps[0]), f'{deps[0]}_pred_label'])\n",
    "\n",
    "    data = data.merge(fittedvalues, how='right', on=['isocode', 'year', 'month'])\n",
    "    \n",
    "    data.drop('Unnamed: 0', axis = 1, inplace = True)\n",
    "\n",
    "\n",
    "#add dependent variables again\n",
    "combined=make_target(data, forward)\n",
    "\n",
    "\n",
    "restricted=combined.dropna(subset=['target_f6','target_f6_pred', 'target_f6_pred_label'])\n",
    "#restricted=restricted[restricted[\"anyviolence_3\"]>=monthsince]\n",
    "y_true=restricted['target_f6']\n",
    "y_scores=restricted['target_f6_pred']\n",
    "y_pred_labels = restricted['target_f6_pred_label']\n",
    "print(\"observations:\", len(y_true))\n",
    "print(\"model AUC:\", roc_auc_score(y_true, y_scores), \"and av.precision:\", average_precision_score(y_true, y_scores))\n",
    "print(\"model F1:\", f1_score(y_true, y_pred_labels))"
   ]
  },
  {
   "cell_type": "code",
   "execution_count": 219,
   "id": "1cd84a34",
   "metadata": {},
   "outputs": [
    {
     "data": {
      "image/png": "[encoded data removed]",
      "text/plain": [
       "<Figure size 640x480 with 1 Axes>"
      ]
     },
     "metadata": {},
     "output_type": "display_data"
    }
   ],
   "source": [
    "# Compute the false positive rate (FPR), true positive rate (TPR), and threshold\n",
    "fpr, tpr, thresholds = roc_curve(y_true, y_scores)\n",
    "\n",
    "# Compute the area under the ROC curve (AUC)\n",
    "roc_auc = auc(fpr, tpr)\n",
    "\n",
    "# Plotting the ROC curve\n",
    "plt.figure()\n",
    "plt.plot(fpr, tpr, label='ROC curve (area = %0.2f)' % roc_auc)\n",
    "plt.plot([0, 1], [0, 1], 'k--')  # Plotting the diagonal line (random classifier)\n",
    "plt.xlim([0.0, 1.0])\n",
    "plt.ylim([0.0, 1.05])\n",
    "plt.xlabel('False Positive Rate')\n",
    "plt.ylabel('True Positive Rate')\n",
    "plt.title('Receiver Operating Characteristic')\n",
    "plt.legend(loc=\"lower right\")\n",
    "plt.show()"
   ]
  },
  {
   "cell_type": "code",
   "execution_count": 220,
   "id": "70699ec7",
   "metadata": {},
   "outputs": [
    {
     "data": {
      "image/png": "[encoded data removed]",
      "text/plain": [
       "<Figure size 640x480 with 1 Axes>"
      ]
     },
     "metadata": {},
     "output_type": "display_data"
    }
   ],
   "source": [
    "# Compute precision, recall, and thresholds\n",
    "precision, recall, thresholds = precision_recall_curve(y_true, y_scores)\n",
    "\n",
    "# Plotting the Precision-Recall curve\n",
    "plt.plot(recall, precision, label='Precision-Recall curve')\n",
    "plt.xlabel('Recall')\n",
    "plt.ylabel('Precision')\n",
    "plt.title('Precision-Recall Curve')\n",
    "plt.xlim([0.0, 1.0])\n",
    "plt.ylim([0.0, 1.05])\n",
    "plt.legend(loc=\"lower left\")\n",
    "plt.show()"
   ]
  },
  {
   "cell_type": "markdown",
   "id": "5fc95faa",
   "metadata": {},
   "source": [
    "The model has an AUC score of .75. The AUC is a number between 0 and 1, that is the ratio of the True Positive Rate over the False Positive Rate. True Positive Rate, also referred to as recall, is a measure of the model's ability to correctly classify instances of cyber attacks in the next 6 months. The False Postive Rate can be interpreted as the probability of incorrectly classifying that there will be an instance of a cyber attack in the next 6 months. In the graph this ratio is plotted using the probability estimates of the cyber attack prediction compared to an array of thresholds ranging from 0 to in this case .811. The AUC of .75 means the model has the capability to distinguish between times where there will be no cyber attack and times there will be a cyber attack with an accuracy of 75%. \n",
    "\n",
    "But this may paint an overly optimistic view of model performance since it does not take into account class imbalance. Therefore we look at the precision recall curve.\n",
    "\n",
    "Similar to the ROC curve, in the precision recall curve the probability estimates of the cyber attack prediction are compared to an array of thresholds. However, this graph is meant to show the tradeoff between precision and recall in the model. Precision meaning, all predicted cyber attacks were actually cyber attack (this metric does not factor in predictions of cyber attacks when there actually were none). Recall meaning, all instances of true cyber attacks were classified as cyber attack (this metric does not take into account when it was predicted there would be no cyber attack but there was). In other words a higher precision will result in a low false postive rate but a high recall will result in a lower false negative rate. \n",
    "\n",
    "The CSO will probably care most about the the false positve rate of the model. Since they do not want to raise the alarm of a cyber attack and ask for more money when there is relatively low risk. However, a false negative is more costly to the company since the cost of a cyber attack is more than the investment to prevent it. Either way the CSO is on the hook, but they may want a model with high precision relative to recall. "
   ]
  },
  {
   "cell_type": "code",
   "execution_count": 221,
   "id": "251044b1",
   "metadata": {},
   "outputs": [
    {
     "data": {
      "image/png": "[encoded data removed]",
      "text/plain": [
       "<Figure size 800x600 with 2 Axes>"
      ]
     },
     "metadata": {},
     "output_type": "display_data"
    },
    {
     "name": "stdout",
     "output_type": "stream",
     "text": [
      "true_negatives: 6809\n",
      "false_positives: 586\n",
      "false_negatives: 2979\n",
      "true_positives: 1500\n"
     ]
    }
   ],
   "source": [
    "# full model confusion matrix\n",
    "classes = [0,1]\n",
    "\n",
    "cm = confusion_matrix(y_true, y_pred_labels)\n",
    "\n",
    "\n",
    "plt.figure(figsize=(8, 6))\n",
    "ax = plt.subplot()\n",
    "im = ax.imshow(cm, interpolation='nearest', cmap=plt.cm.Blues)\n",
    "ax.figure.colorbar(im, ax=ax)\n",
    "\n",
    "\n",
    "ax.set_title('Confusion Matrix')\n",
    "ax.set_xlabel('Predicted')\n",
    "ax.set_ylabel('True')\n",
    "\n",
    "\n",
    "tick_marks = np.arange(len(classes))\n",
    "plt.xticks(tick_marks, classes)\n",
    "plt.yticks(tick_marks, classes)\n",
    "\n",
    "\n",
    "thresh = cm.max() / 2.0\n",
    "for i in range(cm.shape[0]):\n",
    "    for j in range(cm.shape[1]):\n",
    "        ax.text(j, i, format(cm[i, j], 'd'), ha='center', va='center',\n",
    "                color='white' if cm[i, j] > thresh else 'black')\n",
    "\n",
    "\n",
    "plt.tight_layout()\n",
    "plt.show()\n",
    "\n",
    "\n",
    "true_negatives = cm[0, 0]\n",
    "false_positives = cm[0, 1]\n",
    "false_negatives = cm[1, 0]\n",
    "true_positives = cm[1, 1]\n",
    "\n",
    "\n",
    "print('true_negatives:', true_negatives)\n",
    "print('false_positives:', false_positives)\n",
    "print('false_negatives:', false_negatives)\n",
    "print('true_positives:', true_positives)"
   ]
  },
  {
   "cell_type": "code",
   "execution_count": 222,
   "id": "40441904",
   "metadata": {},
   "outputs": [],
   "source": [
    "# True Positives: Correctly identified that there would be a cyber attack in the next six months\n",
    "# True Negatives: Correctly identifed that there would not be a cyber attack in the next six months\n",
    "# False Positives: Identified that were would be a cyber attack in the next six months when there wouldn't be\n",
    "# False Negatives: Identified that there wouldn't be a cyber attack when there was one"
   ]
  },
  {
   "cell_type": "markdown",
   "id": "243eeece",
   "metadata": {},
   "source": [
    "The structure of the cost function introduced in class makes sense for the CSO assuming that there is only one chance to propose the budget for the next 6 months. The use case is: they are drafting their budget for the next 6 months, they run the model and it provides them with the predicted probability of a cyber attack happening in the next 6 months in the country they are operating in, if the predicted probability of an attack is past a certain threshold then they ask for additional money in their budget that will go towards cyber security investments. \n",
    "\n",
    "Below I have written the functions necessary to implement the minimization of the cost function. The evaluate_cutoffs loops through the predicted proabilities of a cyber attack happening in the next 6 months for each year and month and compares it against a threshold and returns the number of true positives, true negatives, false positives, false negatives. These values are then given to the evaluate_cost_fn that also takes as arguments the cost of a cyber attack on the company, the cost of intervention (the cost of the original cyber security budget plus the 25\\% increase), and an intervention effectiveness estimation which I have set to .75. Meaning with this additional money in the cyber security budget a cyber attack will be prevented with a proability of 75\\%\n",
    "\n",
    "Based on these calculations, the optimal threshold to ask for additional money in the budget is when the risk predicted by the model is just below 30\\%\n",
    "\n",
    "This is a relatively low threshold, but I think its because since the cost of intervention is so low relative to the cost of an attack on the company, the decision maker can afford to have more false positives."
   ]
  },
  {
   "cell_type": "code",
   "execution_count": 252,
   "id": "d66b7cd4",
   "metadata": {},
   "outputs": [],
   "source": [
    "def evaluate_cutoffs(cutoff, predict_probas, true_class):\n",
    "    \n",
    "    y_pred_labels = [1 if x > cutoff else 0 for x in predict_probas]\n",
    "    cm = confusion_matrix(y_true, y_pred_labels)\n",
    "\n",
    "    true_negatives = cm[0, 0]\n",
    "    false_positives = cm[0, 1]\n",
    "    false_negatives = cm[1, 0]\n",
    "    true_positives = cm[1, 1]\n",
    "    \n",
    "    return true_positives, true_negatives, false_positives, false_negatives       \n",
    "\n",
    "def evaluate_cost_fn(outbreak_cost, intervention_cost, p, TP, FP, FN, TN):\n",
    "    \n",
    "    # discounted cost of no intervention (peace) is 0\n",
    "    peace = 0\n",
    "    \n",
    "    cost = (((p * peace) + ((1 - p) * outbreak_cost) + intervention_cost) * TP) + ((peace + intervention_cost) * FP) + (outbreak_cost * FN) + (peace * TN)\n",
    "    \n",
    "    return cost   "
   ]
  },
  {
   "cell_type": "code",
   "execution_count": 240,
   "id": "b9f2db1f",
   "metadata": {},
   "outputs": [],
   "source": [
    "# outbreak and intervention costs take from this article: https://www.sangfor.com/blog/cybersecurity/cost-of-cybercrime-vs-cost-of-cybersecurity\n",
    "\n",
    "outbreak = 2980000 # the average cost of a cyber attack on a small business\n",
    "intervention = 500000 + 125000 # average cyber security budget of a small business plus a 25% increase\n",
    "effectiveness = .75\n",
    "\n",
    "costs = []\n",
    "\n",
    "for c in thresholds:\n",
    "    true_positives, true_negatives, false_positives, false_negatives = evaluate_cutoffs(c, y_scores, y_true)\n",
    "    costs.append(evaluate_cost_fn(outbreak, \n",
    "                                  intervention, \n",
    "                                  effectiveness, \n",
    "                                  true_positives, false_positives,\n",
    "                                 false_negatives, true_negatives))"
   ]
  },
  {
   "cell_type": "code",
   "execution_count": 242,
   "id": "2ca8752b",
   "metadata": {},
   "outputs": [
    {
     "data": {
      "image/png": "[encoded data removed]",
      "text/plain": [
       "<Figure size 640x480 with 1 Axes>"
      ]
     },
     "metadata": {},
     "output_type": "display_data"
    }
   ],
   "source": [
    "plt.plot(thresholds, np.log(costs))\n",
    "plt.xlabel('Cutoffs')\n",
    "plt.ylabel('Log of Total Costs')\n",
    "plt.show()"
   ]
  },
  {
   "cell_type": "code",
   "execution_count": 250,
   "id": "486d4166",
   "metadata": {},
   "outputs": [],
   "source": [
    "true_positives, true_negatives, false_positives, false_negatives = evaluate_cutoffs(.28, y_scores, y_true)"
   ]
  }
 ],
 "metadata": {
  "kernelspec": {
   "display_name": "Python 3 (ipykernel)",
   "language": "python",
   "name": "python3"
  },
  "language_info": {
   "codemirror_mode": {
    "name": "ipython",
    "version": 3
   },
   "file_extension": ".py",
   "mimetype": "text/x-python",
   "name": "python",
   "nbconvert_exporter": "python",
   "pygments_lexer": "ipython3",
   "version": "3.10.8"
  }
 },
 "nbformat": 4,
 "nbformat_minor": 5
}
